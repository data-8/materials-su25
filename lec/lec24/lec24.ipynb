{
 "cells": [
  {
   "cell_type": "code",
   "execution_count": null,
   "id": "fdea0586-84c4-44b6-833d-412ee03206a7",
   "metadata": {},
   "outputs": [],
   "source": [
    "import matplotlib\n",
    "from datascience import *\n",
    "%matplotlib inline\n",
    "import matplotlib.pyplot as plots\n",
    "import numpy as np\n",
    "plots.style.use('fivethirtyeight')"
   ]
  },
  {
   "cell_type": "markdown",
   "id": "8d79cfac-f9f9-4a0d-98b7-9833ab5bb58f",
   "metadata": {},
   "source": [
    "## Recap\n",
    "- In slides."
   ]
  },
  {
   "cell_type": "markdown",
   "id": "2cd9abc8-12bd-4aaa-9044-0153fdc2dda8",
   "metadata": {},
   "source": [
    "## New material"
   ]
  },
  {
   "cell_type": "markdown",
   "id": "d673c72b-c34b-45b0-8cbf-e9ce300b1f81",
   "metadata": {
    "jp-MarkdownHeadingCollapsed": true
   },
   "source": [
    "### A bell shape tells us more about a distribution"
   ]
  },
  {
   "cell_type": "code",
   "execution_count": null,
   "id": "5404463b-2a3c-4a1c-8503-8d2a169374a6",
   "metadata": {},
   "outputs": [],
   "source": [
    "births = Table.read_table('baby.csv')\n",
    "births.show(6)"
   ]
  },
  {
   "cell_type": "markdown",
   "id": "bfa4b005-d413-4924-891b-0c0471de300a",
   "metadata": {},
   "source": [
    "**Reminder:** We are treating this dataset as a random sample from a hosptial system."
   ]
  },
  {
   "cell_type": "code",
   "execution_count": null,
   "id": "33d4705b-ef8d-4cba-a8e3-984ea2e842d1",
   "metadata": {},
   "outputs": [],
   "source": [
    "births.hist('Birth Weight')"
   ]
  },
  {
   "cell_type": "code",
   "execution_count": null,
   "id": "dc94f728-bea8-4c54-b8c9-364c8d3d9466",
   "metadata": {},
   "outputs": [],
   "source": [
    "def chebyshev(num_SDs):\n",
    "    # returns the least proportion of the data in +/- num_SDs\n",
    "    z = num_SDs\n",
    "    return 1 - 1/z**2  "
   ]
  },
  {
   "cell_type": "code",
   "execution_count": null,
   "id": "c08449e2-3eb8-4fc2-a5db-3ce424e61c10",
   "metadata": {},
   "outputs": [],
   "source": [
    "chebyshev(make_array(1,2,3))"
   ]
  },
  {
   "cell_type": "markdown",
   "id": "6e72e1f8-df7c-4714-8f2b-8084d1971e78",
   "metadata": {},
   "source": [
    "**Task**: Empirically verify that for a bell shaped distribution,\n",
    "- the proportion of values within 1, 2 and 3 SDs of the mean is 68, 95, and 99.75 percent, respectively."
   ]
  },
  {
   "cell_type": "code",
   "execution_count": null,
   "id": "3a7486ad-b629-4b84-8305-c6c76a426e25",
   "metadata": {},
   "outputs": [],
   "source": [
    "birth_weight_mean = np.average(births.column('Birth Weight'))\n",
    "birth_weight_mean"
   ]
  },
  {
   "cell_type": "code",
   "execution_count": null,
   "id": "d8b85caf-7b51-4919-93b0-247850931999",
   "metadata": {},
   "outputs": [],
   "source": [
    "birth_weight_sd = np.std(births.column('Birth Weight'))\n",
    "birth_weight_sd"
   ]
  },
  {
   "cell_type": "markdown",
   "id": "37befc07-279c-4703-a593-5bf6a4e59f58",
   "metadata": {},
   "source": [
    "###### Within 1 SD"
   ]
  },
  {
   "cell_type": "code",
   "execution_count": null,
   "id": "a5a358de-c6de-4acc-a0e1-0a07014fdf77",
   "metadata": {},
   "outputs": [],
   "source": [
    "births.where('Birth Weight', are.between(birth_weight_mean - birth_weight_sd,\n",
    "                                        birth_weight_mean + birth_weight_sd)).num_rows/births.num_rows"
   ]
  },
  {
   "cell_type": "markdown",
   "id": "6a24df6d-ee42-4c19-ae2d-728a98a52d67",
   "metadata": {},
   "source": [
    "###### Within 2 SD"
   ]
  },
  {
   "cell_type": "code",
   "execution_count": null,
   "id": "6f433ad2-1b35-4335-91e5-afb75e6a8a25",
   "metadata": {},
   "outputs": [],
   "source": [
    "births.where('Birth Weight', are.between(birth_weight_mean - 2*birth_weight_sd,\n",
    "                                        birth_weight_mean + 2*birth_weight_sd)).num_rows/births.num_rows"
   ]
  },
  {
   "cell_type": "code",
   "execution_count": null,
   "id": "ddc1bb30-d032-4017-a79c-aa9e91cf0468",
   "metadata": {},
   "outputs": [],
   "source": [
    "births.where('Birth Weight', are.between(birth_weight_mean - 3*birth_weight_sd,\n",
    "                                        birth_weight_mean + 3*birth_weight_sd)).num_rows/births.num_rows"
   ]
  },
  {
   "cell_type": "markdown",
   "id": "8976884f-13cb-412f-b3d5-b6e6cac5692a",
   "metadata": {},
   "source": [
    "**STOP**"
   ]
  },
  {
   "cell_type": "markdown",
   "id": "d34f0cfc-4b12-4646-8823-cbebda57c3af",
   "metadata": {},
   "source": [
    "### The Central Limit Theorem (CLT)"
   ]
  },
  {
   "cell_type": "code",
   "execution_count": null,
   "id": "dc849679-808f-4a23-bfe5-e83ec9a1e500",
   "metadata": {},
   "outputs": [],
   "source": [
    "united = Table.read_table('united.csv')"
   ]
  },
  {
   "cell_type": "code",
   "execution_count": null,
   "id": "63b8db48-9cad-4e87-9c24-b7eb143d8a1b",
   "metadata": {},
   "outputs": [],
   "source": [
    "united.show(6)"
   ]
  },
  {
   "cell_type": "markdown",
   "id": "8ec47fe9-439f-4acd-addc-3a05432e7eed",
   "metadata": {},
   "source": [
    "**Reminder:** We are treating this dataset as the population of all United Airlines flights that occurred over the two month period."
   ]
  },
  {
   "cell_type": "code",
   "execution_count": null,
   "id": "a2c860ca-ccc0-4e53-af39-26dae762a726",
   "metadata": {},
   "outputs": [],
   "source": [
    "population_parameter = np.average(united.column('Delay'))\n",
    "population_parameter"
   ]
  },
  {
   "cell_type": "markdown",
   "id": "8a7151df-dd04-4959-96c8-2c59f88e42a4",
   "metadata": {},
   "source": [
    "**Task**: Show that the empirical distribution of the sample mean approaches a bell shape as the sample size (for each statistic used to create the distribution) increases.\n",
    "\n",
    "- Though the CLT is a statement about the probability distribution of the statistic, the empirical distribution will look roughly like the probability distribution when the repetition size is large. Here, we set it to 10,000."
   ]
  },
  {
   "cell_type": "code",
   "execution_count": null,
   "id": "5b25d7ef-b85b-4417-9c7d-7360c6727b27",
   "metadata": {},
   "outputs": [],
   "source": [
    "def one_sample_mean(sample_size):\n",
    "    \"\"\" \n",
    "    Takes a sample from the population of flights \n",
    "    and computes its mean\n",
    "    \"\"\"\n",
    "    sampled_flights = united.sample(sample_size)\n",
    "    return np.mean(sampled_flights.column('Delay'))"
   ]
  },
  {
   "cell_type": "code",
   "execution_count": null,
   "id": "060a4d0a-323a-4532-9cfb-c9fa87c52074",
   "metadata": {},
   "outputs": [],
   "source": [
    "def ten_thousand_sample_means(sample_size):\n",
    "    means = make_array()\n",
    "    for i in np.arange(10000):\n",
    "        mean = one_sample_mean(sample_size)\n",
    "        means = np.append(means, mean)\n",
    "    return means"
   ]
  },
  {
   "cell_type": "code",
   "execution_count": null,
   "id": "62b1533c-fe6f-4145-b1cb-38c76ad0a62a",
   "metadata": {},
   "outputs": [],
   "source": [
    "def plot_sample_mean_distribution(sample_size):\n",
    "    sample_means = ten_thousand_sample_means(sample_size)\n",
    "    \n",
    "    Table().with_column('Mean of ' + str(sample_size) + ' flight delays', \n",
    "                        sample_means).hist(bins=20)\n",
    "\n",
    "    print('Population Average:', population_parameter)"
   ]
  },
  {
   "cell_type": "code",
   "execution_count": null,
   "id": "28f8d3be-d935-4cba-a1df-2cfb19bad394",
   "metadata": {},
   "outputs": [],
   "source": [
    "plot_sample_mean_distribution(10)"
   ]
  },
  {
   "cell_type": "code",
   "execution_count": null,
   "id": "98f918c1-72f4-4b5a-a081-1765663984c2",
   "metadata": {},
   "outputs": [],
   "source": [
    "plot_sample_mean_distribution(30)"
   ]
  },
  {
   "cell_type": "code",
   "execution_count": null,
   "id": "c761a5d5-506d-4687-916a-2c99a296b816",
   "metadata": {},
   "outputs": [],
   "source": [
    "plot_sample_mean_distribution(100)"
   ]
  },
  {
   "cell_type": "code",
   "execution_count": null,
   "id": "c042321e-ffe1-42c3-a5bf-fa7c60f3428f",
   "metadata": {},
   "outputs": [],
   "source": [
    "plot_sample_mean_distribution(400)"
   ]
  },
  {
   "cell_type": "markdown",
   "id": "52f08dd5-a75d-4d6e-ae74-1cf9ae7d2f51",
   "metadata": {},
   "source": [
    "**Discussion Question**\n",
    "\n",
    "After rolling 1,000,000 fair 6-sided dice, which of these histograms would you expect to have a bell shape? \n",
    "- You might expect there to be one (or more than one)!\n",
    "\n",
    "**1.** The histogram of outcomes of these million rolls\n",
    "\n",
    "**2.** The histogram that results from computing the average outcome of these million rolls\n",
    "\n",
    "**3.** The histogram that results from:\n",
    " - splitting the outcomes into 1,000 groups of 1,000 (in the order they occurred)\n",
    " - and computing the average outcome of each group\n"
   ]
  }
 ],
 "metadata": {
  "kernelspec": {
   "display_name": "Python 3 (ipykernel)",
   "language": "python",
   "name": "python3"
  },
  "language_info": {
   "codemirror_mode": {
    "name": "ipython",
    "version": 3
   },
   "file_extension": ".py",
   "mimetype": "text/x-python",
   "name": "python",
   "nbconvert_exporter": "python",
   "pygments_lexer": "ipython3",
   "version": "3.12.4"
  }
 },
 "nbformat": 4,
 "nbformat_minor": 5
}
