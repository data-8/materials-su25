{
 "cells": [
  {
   "cell_type": "code",
   "execution_count": null,
   "id": "caeb06f6-8c8d-4983-8dd9-e4326913e1ce",
   "metadata": {},
   "outputs": [],
   "source": [
    "from datascience import *\n",
    "import numpy as np\n",
    "\n",
    "%matplotlib inline\n",
    "import matplotlib.pyplot as plots\n",
    "plots.style.use('fivethirtyeight')\n",
    "import warnings\n",
    "warnings.simplefilter(action='ignore', category=np.VisibleDeprecationWarning)"
   ]
  },
  {
   "cell_type": "markdown",
   "id": "2bdfad2a-e1ad-4033-abb3-5f02ac53d9f2",
   "metadata": {},
   "source": [
    "## New material"
   ]
  },
  {
   "cell_type": "markdown",
   "id": "fb866da9-d847-49f0-85e4-cbcff1f16d01",
   "metadata": {},
   "source": [
    "### Comparison Expressions result in a `bool`"
   ]
  },
  {
   "cell_type": "code",
   "execution_count": null,
   "id": "96a8c6f5-439e-46fe-9bd5-af9b22dbd6c9",
   "metadata": {},
   "outputs": [],
   "source": [
    "x = 3 \n",
    "y = 2"
   ]
  },
  {
   "cell_type": "code",
   "execution_count": null,
   "id": "e6ab1eca-412a-4852-b80d-71d4fc25fa1f",
   "metadata": {},
   "outputs": [],
   "source": [
    "x == y"
   ]
  },
  {
   "cell_type": "code",
   "execution_count": null,
   "id": "55e79eb1-048b-4954-98de-4a016e4f864c",
   "metadata": {},
   "outputs": [],
   "source": [
    "x == y + 1"
   ]
  },
  {
   "cell_type": "code",
   "execution_count": null,
   "id": "cab21618-2a12-4424-aa0b-4b08316340c3",
   "metadata": {},
   "outputs": [],
   "source": [
    "x != y"
   ]
  },
  {
   "cell_type": "code",
   "execution_count": null,
   "id": "ff14648d-5011-4a09-a365-8e3bf8957c48",
   "metadata": {},
   "outputs": [],
   "source": [
    "2 < x < 5"
   ]
  },
  {
   "cell_type": "code",
   "execution_count": null,
   "id": "6e91d73c-371a-4f49-9cce-bec8b691e87f",
   "metadata": {},
   "outputs": [],
   "source": [
    "y >= x - 1"
   ]
  },
  {
   "cell_type": "code",
   "execution_count": null,
   "id": "fe53b694-1da1-4f90-b6b4-12b822d42ca5",
   "metadata": {},
   "outputs": [],
   "source": [
    "y > x - 1"
   ]
  },
  {
   "cell_type": "markdown",
   "id": "71a3d566-7ae0-4f88-9c83-1f5b485fd5bd",
   "metadata": {},
   "source": [
    "#### `=` and `==` are different!!!"
   ]
  },
  {
   "cell_type": "code",
   "execution_count": null,
   "id": "126c6ff8-404c-4620-8e78-6bcb620d936b",
   "metadata": {},
   "outputs": [],
   "source": [
    "x = y"
   ]
  },
  {
   "cell_type": "code",
   "execution_count": null,
   "id": "c72089f4-e910-4244-ad50-5f53008f5bdb",
   "metadata": {},
   "outputs": [],
   "source": [
    "x"
   ]
  },
  {
   "cell_type": "code",
   "execution_count": null,
   "id": "b1275d18-c950-4b23-b672-90dfda2f196f",
   "metadata": {},
   "outputs": [],
   "source": [
    "y"
   ]
  },
  {
   "cell_type": "code",
   "execution_count": null,
   "id": "d84b429a-8433-4081-a644-773d2206ec8a",
   "metadata": {},
   "outputs": [],
   "source": [
    "x = 3 \n",
    "y = 2\n",
    "x == y"
   ]
  },
  {
   "cell_type": "markdown",
   "id": "b76550b8-de96-4210-8cf7-8f53f5bd4ec9",
   "metadata": {},
   "source": [
    "### `True` counts as `1`, `False` counts as `0`"
   ]
  },
  {
   "cell_type": "code",
   "execution_count": null,
   "id": "4aeab660-0b74-4645-ba55-160a597fcc6a",
   "metadata": {},
   "outputs": [],
   "source": [
    "z = make_array('Jeremy', 'DeNero', 'Jeremy')"
   ]
  },
  {
   "cell_type": "code",
   "execution_count": null,
   "id": "58f4cf2a-2908-4c43-b5fe-6f37c4fd23b3",
   "metadata": {},
   "outputs": [],
   "source": [
    "z == \"Jeremy\""
   ]
  },
  {
   "cell_type": "code",
   "execution_count": null,
   "id": "9b5db516-d41f-454d-bd79-672b6359542f",
   "metadata": {},
   "outputs": [],
   "source": [
    "sum(z == \"Jeremy\")"
   ]
  },
  {
   "cell_type": "code",
   "execution_count": null,
   "id": "d081ca02-af82-4aac-bab0-cd25b58e2cc1",
   "metadata": {},
   "outputs": [],
   "source": [
    "np.average(z == \"Jeremy\")"
   ]
  },
  {
   "cell_type": "code",
   "execution_count": null,
   "id": "c19dd735-a258-4233-ada6-51b0cac40457",
   "metadata": {},
   "outputs": [],
   "source": [
    "np.arange(3) > 1"
   ]
  },
  {
   "cell_type": "code",
   "execution_count": null,
   "id": "50176ba2-f714-47ae-b8a1-54de24c2df13",
   "metadata": {},
   "outputs": [],
   "source": [
    "sum(make_array(0,1,2) >= 1)"
   ]
  },
  {
   "cell_type": "code",
   "execution_count": null,
   "id": "26ba1c05-cbda-40c8-806d-ec0a03b0b0cd",
   "metadata": {},
   "outputs": [],
   "source": [
    "sum(make_array(0,1,2,3) <=1) == 2"
   ]
  },
  {
   "cell_type": "markdown",
   "id": "95a21022-be63-49e5-83fd-31db4b158ac2",
   "metadata": {},
   "source": [
    "### Control your computations with an `if` statement"
   ]
  },
  {
   "cell_type": "code",
   "execution_count": null,
   "id": "5735e8fd-4abc-4e6f-a5bf-fa0b26caffc5",
   "metadata": {},
   "outputs": [],
   "source": [
    "def sign(x):\n",
    "    \"\"\"determines the sign (+/-) of a numeric input\"\"\"\n",
    "    if x > 0:\n",
    "        return 'Positive'\n",
    "    \n",
    "    elif x < 0:\n",
    "        return 'Negative'\n",
    "    \n",
    "    elif x == 0:\n",
    "        return 'Neither positive nor negative'"
   ]
  },
  {
   "cell_type": "code",
   "execution_count": null,
   "id": "6ba5d3e8-6b48-4ddc-a6fe-bdadbc675eb6",
   "metadata": {},
   "outputs": [],
   "source": [
    "sign(1)"
   ]
  },
  {
   "cell_type": "code",
   "execution_count": null,
   "id": "6768635e-609a-492c-9e9b-ad49c2cdb59d",
   "metadata": {},
   "outputs": [],
   "source": [
    "sign(-1)"
   ]
  },
  {
   "cell_type": "code",
   "execution_count": null,
   "id": "a5abf41c-1b55-4685-9607-e3c099a00344",
   "metadata": {},
   "outputs": [],
   "source": [
    "sign(0)"
   ]
  },
  {
   "cell_type": "code",
   "execution_count": null,
   "id": "d5795d75-7664-4038-a38b-dea770cfc871",
   "metadata": {},
   "outputs": [],
   "source": [
    "sign('-1')"
   ]
  },
  {
   "cell_type": "markdown",
   "id": "80b0189c-f075-47df-b831-8298a46f1b70",
   "metadata": {
    "jp-MarkdownHeadingCollapsed": true
   },
   "source": [
    "#### Discussion Question: \n",
    "- What is the sign of the following expression?\n",
    "\n",
    "```python\n",
    "sum(np.arange(4) <= 1) * -2\n",
    "```"
   ]
  },
  {
   "cell_type": "markdown",
   "id": "83562aee-9119-4be4-ba47-a24a5a8cd56b",
   "metadata": {
    "jp-MarkdownHeadingCollapsed": true
   },
   "source": [
    "### Control your computations with a `for` loop - examples"
   ]
  },
  {
   "cell_type": "code",
   "execution_count": null,
   "id": "a8df571a-4f78-48ee-8753-485b390f6b73",
   "metadata": {},
   "outputs": [],
   "source": [
    "for i in np.arange(5):\n",
    "    print(\"I am counting to 100. I am at \" + str(i + 1))"
   ]
  },
  {
   "cell_type": "code",
   "execution_count": null,
   "id": "d6e0c41f-3a57-4d93-baea-02bdbfc7d0c1",
   "metadata": {},
   "outputs": [],
   "source": [
    "faculty = make_array('Jeremy', 'DeNero', 'Adhikari')\n",
    "\n",
    "for i in faculty:\n",
    "    print(i)"
   ]
  },
  {
   "cell_type": "markdown",
   "id": "f4d7a3ff-06f2-4caf-a43e-ea41e48b8029",
   "metadata": {},
   "source": [
    "## Review\n"
   ]
  },
  {
   "cell_type": "code",
   "execution_count": null,
   "id": "d4fb773b-5c3b-4194-b516-906bb19f9bc2",
   "metadata": {},
   "outputs": [],
   "source": [
    "farmers_markets = Table.read_table('farmers_markets.csv')\n",
    "farmers_markets.group(['Bakedgoods','Vegetables','Seafood']).sort('count',descending=True)"
   ]
  },
  {
   "cell_type": "code",
   "execution_count": null,
   "id": "dfbc0f25-a397-40df-93b4-2b9a87c508f3",
   "metadata": {},
   "outputs": [],
   "source": [
    "skyscrapers = Table.read_table('skyscrapers.csv')"
   ]
  },
  {
   "cell_type": "markdown",
   "id": "6f8873e1-1f4c-4ae9-9290-72f4a2515431",
   "metadata": {},
   "source": [
    "### Challenge Task from yesterday\n",
    "\n",
    "- I would like to make a visualization of the distribution of material types of buildings among each of San Francisco, New York and Chicago.\n",
    "- Which cross-classification method is best for this? "
   ]
  },
  {
   "cell_type": "code",
   "execution_count": null,
   "id": "e9273761-64a3-4111-9edb-3418d3cc5320",
   "metadata": {},
   "outputs": [],
   "source": [
    "cities_we_want = make_array('San Francisco', 'New York City', 'Chicago')\n",
    "\n",
    "\n",
    "skyscrapers.where('city', are.contained_in(cities_we_want)).pivot('material','city').barh('city')"
   ]
  }
 ],
 "metadata": {
  "kernelspec": {
   "display_name": "Python 3 (ipykernel)",
   "language": "python",
   "name": "python3"
  },
  "language_info": {
   "codemirror_mode": {
    "name": "ipython",
    "version": 3
   },
   "file_extension": ".py",
   "mimetype": "text/x-python",
   "name": "python",
   "nbconvert_exporter": "python",
   "pygments_lexer": "ipython3",
   "version": "3.12.4"
  }
 },
 "nbformat": 4,
 "nbformat_minor": 5
}
