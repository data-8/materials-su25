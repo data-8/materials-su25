{
 "cells": [
  {
   "cell_type": "code",
   "execution_count": 2,
   "id": "7ea79d99-a356-497f-b96c-8d05909d4536",
   "metadata": {},
   "outputs": [],
   "source": [
    "from datascience import *\n",
    "import numpy as np\n",
    "\n",
    "%matplotlib inline\n",
    "import matplotlib.pyplot as plots\n",
    "plots.style.use('fivethirtyeight')\n",
    "\n",
    "import warnings\n",
    "warnings.simplefilter(\"ignore\")"
   ]
  },
  {
   "cell_type": "markdown",
   "id": "2c0ab716-85d6-40ae-be29-447b197aee45",
   "metadata": {},
   "source": [
    "## New material"
   ]
  },
  {
   "cell_type": "markdown",
   "id": "74dd0c09-1de0-4e05-be45-b7181589daea",
   "metadata": {},
   "source": [
    "From your text:\n",
    "\n",
    "> [SF OpenData](https://datasf.org/opendata/) is a website where the City and County of San Francisco make some of their data publicly available. One of the data sets contains compensation data for employees of the City. These include medical professionals at City-run hospitals, police officers, fire fighters, transportation workers, elected officials, and all other employees of the City."
   ]
  },
  {
   "cell_type": "code",
   "execution_count": 3,
   "id": "15781184-4e06-4562-a90d-6ef2cbaa055c",
   "metadata": {},
   "outputs": [],
   "source": [
    "population = Table.read_table('san_francisco_2019.csv') "
   ]
  },
  {
   "cell_type": "code",
   "execution_count": 4,
   "id": "50ed31ca-0f13-4ade-bdbd-1b295a05df8b",
   "metadata": {},
   "outputs": [
    {
     "data": {
      "text/html": [
       "<table border=\"1\" class=\"dataframe\">\n",
       "    <thead>\n",
       "        <tr>\n",
       "            <th>Organization Group</th> <th>Department</th> <th>Job Family</th> <th>Job</th> <th>Salary</th> <th>Overtime</th> <th>Benefits</th> <th>Total Compensation</th>\n",
       "        </tr>\n",
       "    </thead>\n",
       "    <tbody>\n",
       "        <tr>\n",
       "            <td>Public Works, Transportation & Commerce</td> <td>Public Utilities Commission   </td> <td>Semi-Skilled & General Labor </td> <td>General Laborer               </td> <td>65805 </td> <td>1001    </td> <td>32110   </td> <td>98915             </td>\n",
       "        </tr>\n",
       "        <tr>\n",
       "            <td>Public Protection                      </td> <td>Dept of Emergency Management  </td> <td>Information Systems          </td> <td>IT Operations Support Admn III</td> <td>110040</td> <td>0       </td> <td>45839   </td> <td>155879            </td>\n",
       "        </tr>\n",
       "        <tr>\n",
       "            <td>Culture & Recreation                   </td> <td>Recreation And Park Commission</td> <td>Housekeeping & Laundry       </td> <td>Custodian                     </td> <td>40353 </td> <td>2806    </td> <td>21577   </td> <td>64737             </td>\n",
       "        </tr>\n",
       "        <tr>\n",
       "            <td>Public Works, Transportation & Commerce</td> <td>Department Of Public Works    </td> <td>Purchasing & Storekeeping    </td> <td>Assistant Storekeeper         </td> <td>57940 </td> <td>1957    </td> <td>33130   </td> <td>93027             </td>\n",
       "        </tr>\n",
       "        <tr>\n",
       "            <td>Public Works, Transportation & Commerce</td> <td>Public Utilities Commission   </td> <td>Budget, Admn & Stats Analysis</td> <td>Management Assistant          </td> <td>91754 </td> <td>0       </td> <td>40676   </td> <td>132430            </td>\n",
       "        </tr>\n",
       "    </tbody>\n",
       "</table>"
      ],
      "text/plain": [
       "Organization Group                      | Department                     | Job Family                    | Job                            | Salary | Overtime | Benefits | Total Compensation\n",
       "Public Works, Transportation & Commerce | Public Utilities Commission    | Semi-Skilled & General Labor  | General Laborer                | 65805  | 1001     | 32110    | 98915\n",
       "Public Protection                       | Dept of Emergency Management   | Information Systems           | IT Operations Support Admn III | 110040 | 0        | 45839    | 155879\n",
       "Culture & Recreation                    | Recreation And Park Commission | Housekeeping & Laundry        | Custodian                      | 40353  | 2806     | 21577    | 64737\n",
       "Public Works, Transportation & Commerce | Department Of Public Works     | Purchasing & Storekeeping     | Assistant Storekeeper          | 57940  | 1957     | 33130    | 93027\n",
       "Public Works, Transportation & Commerce | Public Utilities Commission    | Budget, Admn & Stats Analysis | Management Assistant           | 91754  | 0        | 40676    | 132430"
      ]
     },
     "execution_count": 4,
     "metadata": {},
     "output_type": "execute_result"
    }
   ],
   "source": [
    "population.sample(5, with_replacement = False)"
   ]
  },
  {
   "cell_type": "code",
   "execution_count": 5,
   "id": "ee0ebf07-df26-4e27-9ac2-82b627073aff",
   "metadata": {},
   "outputs": [
    {
     "data": {
      "text/plain": [
       "44525"
      ]
     },
     "execution_count": 5,
     "metadata": {},
     "output_type": "execute_result"
    }
   ],
   "source": [
    "population.num_rows"
   ]
  },
  {
   "cell_type": "markdown",
   "id": "34a7ff3d-4928-47a7-b25b-1665237d6a23",
   "metadata": {},
   "source": [
    "### Exploration"
   ]
  },
  {
   "cell_type": "code",
   "execution_count": 6,
   "id": "e1cb7b19-858a-4364-a272-7d076f2a75b9",
   "metadata": {},
   "outputs": [
    {
     "data": {
      "text/html": [
       "<table border=\"1\" class=\"dataframe\">\n",
       "    <thead>\n",
       "        <tr>\n",
       "            <th>Organization Group</th> <th>Department</th> <th>Job Family</th> <th>Job</th> <th>Salary</th> <th>Overtime</th> <th>Benefits</th> <th>Total Compensation</th>\n",
       "        </tr>\n",
       "    </thead>\n",
       "    <tbody>\n",
       "        <tr>\n",
       "            <td>General Administration & Finance</td> <td>Retirement Services</td> <td>Administrative & Mgmt (Unrep)</td> <td>Chief Investment Officer    </td> <td>577633</td> <td>0       </td> <td>146398  </td> <td>724031            </td>\n",
       "        </tr>\n",
       "        <tr>\n",
       "            <td>General Administration & Finance</td> <td>Retirement Services</td> <td>Unassigned                   </td> <td>Managing Director           </td> <td>483072</td> <td>0       </td> <td>134879  </td> <td>617951            </td>\n",
       "        </tr>\n",
       "        <tr>\n",
       "            <td>General Administration & Finance</td> <td>Retirement Services</td> <td>Unassigned                   </td> <td>Managing Director           </td> <td>482649</td> <td>0       </td> <td>134905  </td> <td>617554            </td>\n",
       "        </tr>\n",
       "        <tr>\n",
       "            <td>General Administration & Finance</td> <td>Retirement Services</td> <td>Unassigned                   </td> <td>Managing Director           </td> <td>451507</td> <td>0       </td> <td>120276  </td> <td>571784            </td>\n",
       "        </tr>\n",
       "        <tr>\n",
       "            <td>General Administration & Finance</td> <td>Retirement Services</td> <td>Unassigned                   </td> <td>Managing Director           </td> <td>449378</td> <td>0       </td> <td>120857  </td> <td>570235            </td>\n",
       "        </tr>\n",
       "        <tr>\n",
       "            <td>Community Health                </td> <td>Public Health      </td> <td>Administrative & Mgmt (Unrep)</td> <td>Physician Administrator, DPH</td> <td>434966</td> <td>0       </td> <td>119213  </td> <td>554179            </td>\n",
       "        </tr>\n",
       "        <tr>\n",
       "            <td>Public Protection               </td> <td>Sheriff            </td> <td>Correction & Detention       </td> <td>Senior Deputy Sheriff       </td> <td>152153</td> <td>315896  </td> <td>77275   </td> <td>545324            </td>\n",
       "        </tr>\n",
       "        <tr>\n",
       "            <td>General Administration & Finance</td> <td>Retirement Services</td> <td>Management                   </td> <td>Director                    </td> <td>397392</td> <td>0       </td> <td>108913  </td> <td>506305            </td>\n",
       "        </tr>\n",
       "        <tr>\n",
       "            <td>Community Health                </td> <td>Public Health      </td> <td>Medical & Dental             </td> <td>Supervising Physician Spec  </td> <td>404701</td> <td>0       </td> <td>99480   </td> <td>504181            </td>\n",
       "        </tr>\n",
       "        <tr>\n",
       "            <td>Community Health                </td> <td>Public Health      </td> <td>Medical & Dental             </td> <td>Senior Physician Specialist </td> <td>400992</td> <td>0       </td> <td>97428   </td> <td>498421            </td>\n",
       "        </tr>\n",
       "    </tbody>\n",
       "</table>\n",
       "<p>... (44515 rows omitted)</p>"
      ],
      "text/plain": [
       "Organization Group               | Department          | Job Family                    | Job                          | Salary | Overtime | Benefits | Total Compensation\n",
       "General Administration & Finance | Retirement Services | Administrative & Mgmt (Unrep) | Chief Investment Officer     | 577633 | 0        | 146398   | 724031\n",
       "General Administration & Finance | Retirement Services | Unassigned                    | Managing Director            | 483072 | 0        | 134879   | 617951\n",
       "General Administration & Finance | Retirement Services | Unassigned                    | Managing Director            | 482649 | 0        | 134905   | 617554\n",
       "General Administration & Finance | Retirement Services | Unassigned                    | Managing Director            | 451507 | 0        | 120276   | 571784\n",
       "General Administration & Finance | Retirement Services | Unassigned                    | Managing Director            | 449378 | 0        | 120857   | 570235\n",
       "Community Health                 | Public Health       | Administrative & Mgmt (Unrep) | Physician Administrator, DPH | 434966 | 0        | 119213   | 554179\n",
       "Public Protection                | Sheriff             | Correction & Detention        | Senior Deputy Sheriff        | 152153 | 315896   | 77275    | 545324\n",
       "General Administration & Finance | Retirement Services | Management                    | Director                     | 397392 | 0        | 108913   | 506305\n",
       "Community Health                 | Public Health       | Medical & Dental              | Supervising Physician Spec   | 404701 | 0        | 99480    | 504181\n",
       "Community Health                 | Public Health       | Medical & Dental              | Senior Physician Specialist  | 400992 | 0        | 97428    | 498421\n",
       "... (44515 rows omitted)"
      ]
     },
     "execution_count": 6,
     "metadata": {},
     "output_type": "execute_result"
    }
   ],
   "source": [
    "population.sort('Total Compensation', descending=True)"
   ]
  },
  {
   "cell_type": "markdown",
   "id": "9f92aca8-9d20-4770-a655-71d77c8d1570",
   "metadata": {},
   "source": [
    "**Discussion Question 1: Visualization**"
   ]
  },
  {
   "cell_type": "code",
   "execution_count": 7,
   "id": "b84a7f53-3f38-419c-a21e-bd9a8ca85a61",
   "metadata": {},
   "outputs": [
    {
     "data": {
      "image/png": "[encoded data removed]",
      "text/plain": [
       "<Figure size 600x400 with 1 Axes>"
      ]
     },
     "metadata": {},
     "output_type": "display_data"
    }
   ],
   "source": [
    "population.hist('Total Compensation', bins = np.arange(0, 800000, 25000))"
   ]
  },
  {
   "cell_type": "code",
   "execution_count": 8,
   "id": "c50a9299-b9dc-468e-9109-b28bf5570334",
   "metadata": {},
   "outputs": [
    {
     "data": {
      "text/html": [
       "<table border=\"1\" class=\"dataframe\">\n",
       "    <thead>\n",
       "        <tr>\n",
       "            <th>Organization Group</th> <th>Department</th> <th>Job Family</th> <th>Job</th> <th>Salary</th> <th>Overtime</th> <th>Benefits</th> <th>Total Compensation</th>\n",
       "        </tr>\n",
       "    </thead>\n",
       "    <tbody>\n",
       "        <tr>\n",
       "            <td>Public Protection                      </td> <td>Adult Probation   </td> <td>Probation & Parole           </td> <td>Deputy Probation Officer      </td> <td>0     </td> <td>0       </td> <td>0       </td> <td>0                 </td>\n",
       "        </tr>\n",
       "        <tr>\n",
       "            <td>Public Protection                      </td> <td>Fire Department   </td> <td>Clerical, Secretarial & Steno</td> <td>Senior Clerk Typist           </td> <td>0     </td> <td>0       </td> <td>0       </td> <td>0                 </td>\n",
       "        </tr>\n",
       "        <tr>\n",
       "            <td>Public Protection                      </td> <td>Juvenile Court    </td> <td>Correction & Detention       </td> <td>Counselor, Juvenile Hall PERS </td> <td>0     </td> <td>0       </td> <td>0       </td> <td>0                 </td>\n",
       "        </tr>\n",
       "        <tr>\n",
       "            <td>Public Protection                      </td> <td>Police            </td> <td>Clerical, Secretarial & Steno</td> <td>Clerk Typist                  </td> <td>0     </td> <td>0       </td> <td>0       </td> <td>0                 </td>\n",
       "        </tr>\n",
       "        <tr>\n",
       "            <td>Public Protection                      </td> <td>Sheriff           </td> <td>Correction & Detention       </td> <td>Deputy Sheriff                </td> <td>0     </td> <td>0       </td> <td>0       </td> <td>0                 </td>\n",
       "        </tr>\n",
       "        <tr>\n",
       "            <td>Public Works, Transportation & Commerce</td> <td>Airport Commission</td> <td>Sub-Professional Engineering </td> <td>StdntDsgn Train2/Arch/Eng/Plng</td> <td>0     </td> <td>0       </td> <td>0       </td> <td>0                 </td>\n",
       "        </tr>\n",
       "        <tr>\n",
       "            <td>Public Works, Transportation & Commerce</td> <td>Airport Commission</td> <td>Clerical, Secretarial & Steno</td> <td>Executive Secretary 1         </td> <td>0     </td> <td>0       </td> <td>0       </td> <td>0                 </td>\n",
       "        </tr>\n",
       "        <tr>\n",
       "            <td>Public Works, Transportation & Commerce</td> <td>Airport Commission</td> <td>Payroll, Billing & Accounting</td> <td>Senior Account Clerk          </td> <td>0     </td> <td>0       </td> <td>0       </td> <td>0                 </td>\n",
       "        </tr>\n",
       "        <tr>\n",
       "            <td>Public Works, Transportation & Commerce</td> <td>Airport Commission</td> <td>Housekeeping & Laundry       </td> <td>Custodian                     </td> <td>0     </td> <td>0       </td> <td>0       </td> <td>0                 </td>\n",
       "        </tr>\n",
       "        <tr>\n",
       "            <td>Public Works, Transportation & Commerce</td> <td>Airport Commission</td> <td>Housekeeping & Laundry       </td> <td>Custodian                     </td> <td>0     </td> <td>0       </td> <td>0       </td> <td>0                 </td>\n",
       "        </tr>\n",
       "    </tbody>\n",
       "</table>\n",
       "<p>... (44515 rows omitted)</p>"
      ],
      "text/plain": [
       "Organization Group                      | Department         | Job Family                    | Job                            | Salary | Overtime | Benefits | Total Compensation\n",
       "Public Protection                       | Adult Probation    | Probation & Parole            | Deputy Probation Officer       | 0      | 0        | 0        | 0\n",
       "Public Protection                       | Fire Department    | Clerical, Secretarial & Steno | Senior Clerk Typist            | 0      | 0        | 0        | 0\n",
       "Public Protection                       | Juvenile Court     | Correction & Detention        | Counselor, Juvenile Hall PERS  | 0      | 0        | 0        | 0\n",
       "Public Protection                       | Police             | Clerical, Secretarial & Steno | Clerk Typist                   | 0      | 0        | 0        | 0\n",
       "Public Protection                       | Sheriff            | Correction & Detention        | Deputy Sheriff                 | 0      | 0        | 0        | 0\n",
       "Public Works, Transportation & Commerce | Airport Commission | Sub-Professional Engineering  | StdntDsgn Train2/Arch/Eng/Plng | 0      | 0        | 0        | 0\n",
       "Public Works, Transportation & Commerce | Airport Commission | Clerical, Secretarial & Steno | Executive Secretary 1          | 0      | 0        | 0        | 0\n",
       "Public Works, Transportation & Commerce | Airport Commission | Payroll, Billing & Accounting | Senior Account Clerk           | 0      | 0        | 0        | 0\n",
       "Public Works, Transportation & Commerce | Airport Commission | Housekeeping & Laundry        | Custodian                      | 0      | 0        | 0        | 0\n",
       "Public Works, Transportation & Commerce | Airport Commission | Housekeeping & Laundry        | Custodian                      | 0      | 0        | 0        | 0\n",
       "... (44515 rows omitted)"
      ]
     },
     "execution_count": 8,
     "metadata": {},
     "output_type": "execute_result"
    }
   ],
   "source": [
    "population.sort('Total Compensation')"
   ]
  },
  {
   "cell_type": "markdown",
   "id": "678947dd-4d21-483c-9740-d7ec74303763",
   "metadata": {},
   "source": [
    "#### How can we decide what people to include in today's problem? \n",
    "\n",
    "- Maybe we can just think about the minimum salary for part-time workers:\n",
    "    - $15/hr, 20 hr/wk, 50 weeks"
   ]
  },
  {
   "cell_type": "code",
   "execution_count": 9,
   "id": "d337299c-fe79-4220-95dc-42b817207da8",
   "metadata": {},
   "outputs": [
    {
     "data": {
      "text/plain": [
       "15000"
      ]
     },
     "execution_count": 9,
     "metadata": {},
     "output_type": "execute_result"
    }
   ],
   "source": [
    "min_salary = 15 * 20 * 50\n",
    "min_salary"
   ]
  },
  {
   "cell_type": "code",
   "execution_count": 10,
   "id": "e8438306-c951-40c0-8db6-1cd0c70935f6",
   "metadata": {},
   "outputs": [
    {
     "data": {
      "text/html": [
       "<table border=\"1\" class=\"dataframe\">\n",
       "    <thead>\n",
       "        <tr>\n",
       "            <th>Organization Group</th> <th>Department</th> <th>Job Family</th> <th>Job</th> <th>Salary</th> <th>Overtime</th> <th>Benefits</th> <th>Total Compensation</th>\n",
       "        </tr>\n",
       "    </thead>\n",
       "    <tbody>\n",
       "        <tr>\n",
       "            <td>Public Protection </td> <td>Adult Probation</td> <td>Information Systems          </td> <td>IS Trainer-Journey            </td> <td>91332 </td> <td>0       </td> <td>40059   </td> <td>131391            </td>\n",
       "        </tr>\n",
       "        <tr>\n",
       "            <td>Public Protection </td> <td>Adult Probation</td> <td>Information Systems          </td> <td>IS Engineer-Assistant         </td> <td>123241</td> <td>0       </td> <td>49279   </td> <td>172520            </td>\n",
       "        </tr>\n",
       "        <tr>\n",
       "            <td>Public Protection </td> <td>Adult Probation</td> <td>Information Systems          </td> <td>IS Business Analyst-Senior    </td> <td>115715</td> <td>0       </td> <td>46752   </td> <td>162468            </td>\n",
       "        </tr>\n",
       "        <tr>\n",
       "            <td>Public Protection </td> <td>Adult Probation</td> <td>Information Systems          </td> <td>IS Business Analyst-Principal </td> <td>159394</td> <td>0       </td> <td>57312   </td> <td>216706            </td>\n",
       "        </tr>\n",
       "        <tr>\n",
       "            <td>Public Protection </td> <td>Adult Probation</td> <td>Information Systems          </td> <td>IS Programmer Analyst         </td> <td>70035 </td> <td>0       </td> <td>28671   </td> <td>98706             </td>\n",
       "        </tr>\n",
       "        <tr>\n",
       "            <td>Public Protection </td> <td>Adult Probation</td> <td>Information Systems          </td> <td>IS Project Director           </td> <td>175742</td> <td>0       </td> <td>60830   </td> <td>236572            </td>\n",
       "        </tr>\n",
       "        <tr>\n",
       "            <td>Public Protection </td> <td>Adult Probation</td> <td>Information Systems          </td> <td>IT Operations Support Admin IV</td> <td>123840</td> <td>0       </td> <td>49429   </td> <td>173269            </td>\n",
       "        </tr>\n",
       "        <tr>\n",
       "            <td>Public Protection </td> <td>Adult Probation</td> <td>Payroll, Billing & Accounting</td> <td>Accountant III                </td> <td>111816</td> <td>0       </td> <td>46319   </td> <td>158135            </td>\n",
       "        </tr>\n",
       "        <tr>\n",
       "            <td>Public Protection </td> <td>Adult Probation</td> <td>Budget, Admn & Stats Analysis</td> <td>Statistician                  </td> <td>87725 </td> <td>0       </td> <td>38899   </td> <td>126624            </td>\n",
       "        </tr>\n",
       "        <tr>\n",
       "            <td>Public Protection </td> <td>Adult Probation</td> <td>Budget, Admn & Stats Analysis</td> <td>Senior Administrative Analyst </td> <td>116192</td> <td>0       </td> <td>47651   </td> <td>163843            </td>\n",
       "        </tr>\n",
       "    </tbody>\n",
       "</table>\n",
       "<p>... (37093 rows omitted)</p>"
      ],
      "text/plain": [
       "Organization Group | Department      | Job Family                    | Job                            | Salary | Overtime | Benefits | Total Compensation\n",
       "Public Protection  | Adult Probation | Information Systems           | IS Trainer-Journey             | 91332  | 0        | 40059    | 131391\n",
       "Public Protection  | Adult Probation | Information Systems           | IS Engineer-Assistant          | 123241 | 0        | 49279    | 172520\n",
       "Public Protection  | Adult Probation | Information Systems           | IS Business Analyst-Senior     | 115715 | 0        | 46752    | 162468\n",
       "Public Protection  | Adult Probation | Information Systems           | IS Business Analyst-Principal  | 159394 | 0        | 57312    | 216706\n",
       "Public Protection  | Adult Probation | Information Systems           | IS Programmer Analyst          | 70035  | 0        | 28671    | 98706\n",
       "Public Protection  | Adult Probation | Information Systems           | IS Project Director            | 175742 | 0        | 60830    | 236572\n",
       "Public Protection  | Adult Probation | Information Systems           | IT Operations Support Admin IV | 123840 | 0        | 49429    | 173269\n",
       "Public Protection  | Adult Probation | Payroll, Billing & Accounting | Accountant III                 | 111816 | 0        | 46319    | 158135\n",
       "Public Protection  | Adult Probation | Budget, Admn & Stats Analysis | Statistician                   | 87725  | 0        | 38899    | 126624\n",
       "Public Protection  | Adult Probation | Budget, Admn & Stats Analysis | Senior Administrative Analyst  | 116192 | 0        | 47651    | 163843\n",
       "... (37093 rows omitted)"
      ]
     },
     "execution_count": 10,
     "metadata": {},
     "output_type": "execute_result"
    }
   ],
   "source": [
    "population = population.where('Salary', are.above(min_salary))\n",
    "population"
   ]
  },
  {
   "cell_type": "code",
   "execution_count": 11,
   "id": "5baff5c6-b39b-4534-b295-c6f108bcafb1",
   "metadata": {},
   "outputs": [
    {
     "data": {
      "image/png": "[encoded data removed]",
      "text/plain": [
       "<Figure size 600x400 with 1 Axes>"
      ]
     },
     "metadata": {},
     "output_type": "display_data"
    }
   ],
   "source": [
    "population.hist('Total Compensation', bins = np.arange(0, 800000, 25000))"
   ]
  },
  {
   "cell_type": "markdown",
   "id": "47370aa8-75bc-42e4-a470-34c5ffa522c0",
   "metadata": {},
   "source": [
    "- Population parameter for today: The *median* total compensation of all City employees of San Francisco (in 2019).\n",
    "- If you have the entire population, just calculate the parameter. "
   ]
  },
  {
   "cell_type": "code",
   "execution_count": 15,
   "id": "7d1495c0-5a20-49fc-909b-3000417e843b",
   "metadata": {},
   "outputs": [
    {
     "data": {
      "text/plain": [
       "135747.0"
      ]
     },
     "execution_count": 15,
     "metadata": {},
     "output_type": "execute_result"
    }
   ],
   "source": [
    "pop_median = percentile(50, population.column('Total Compensation'))\n",
    "pop_median"
   ]
  },
  {
   "cell_type": "markdown",
   "id": "12e6a8cb-14ab-43ef-8a50-ce8016076fc9",
   "metadata": {},
   "source": [
    "**STOP**"
   ]
  },
  {
   "cell_type": "markdown",
   "id": "3fc7ff21-ea7a-43fe-9f21-87dca9311ae7",
   "metadata": {},
   "source": [
    "### Let's change the problem statement slightly:\n",
    "\n",
    "> *Can we find a range of values which we strongly believe that the population parameter lies in?*"
   ]
  },
  {
   "cell_type": "markdown",
   "id": "dce8744b-92f3-48db-a415-8ace1bb7cc02",
   "metadata": {},
   "source": [
    "A sample from the population:"
   ]
  },
  {
   "cell_type": "code",
   "execution_count": 19,
   "id": "0d091e49-13af-419b-8ab3-32fad920582c",
   "metadata": {},
   "outputs": [
    {
     "data": {
      "image/png": "[encoded data removed]",
      "text/plain": [
       "<Figure size 600x400 with 1 Axes>"
      ]
     },
     "metadata": {},
     "output_type": "display_data"
    }
   ],
   "source": [
    "sample_size = 400\n",
    "a_sample = population.sample(sample_size, with_replacement=False)\n",
    "a_sample.hist('Total Compensation', bins = np.arange(0, 800000, 25000))"
   ]
  },
  {
   "cell_type": "code",
   "execution_count": 20,
   "id": "f72b1f4c-d4f1-495b-8b2c-bfc612edc5fa",
   "metadata": {},
   "outputs": [
    {
     "data": {
      "text/plain": [
       "133664.0"
      ]
     },
     "execution_count": 20,
     "metadata": {},
     "output_type": "execute_result"
    }
   ],
   "source": [
    "percentile(50, a_sample.column('Total Compensation'))"
   ]
  },
  {
   "cell_type": "markdown",
   "id": "cda02d4c-caf2-487f-8f97-0e0660bfd490",
   "metadata": {},
   "source": [
    "**STOP**"
   ]
  },
  {
   "cell_type": "markdown",
   "id": "e4478bea-65e7-442d-bf5a-3b94a867e087",
   "metadata": {},
   "source": [
    "### How should we bootstrap sample?"
   ]
  },
  {
   "cell_type": "code",
   "execution_count": null,
   "id": "acdc2b18-d937-4eb7-9d89-52bae3dd5a78",
   "metadata": {},
   "outputs": [],
   "source": [
    "bootstrap_sample = a_sample.sample(k = a_sample.num_rows, \n",
    "                                   with_replacement = True)"
   ]
  },
  {
   "cell_type": "code",
   "execution_count": null,
   "id": "b46c6bb4-ab06-4e3d-8078-8370718d3469",
   "metadata": {},
   "outputs": [],
   "source": [
    "bootstrap_sample.hist('Total Compensation', bins = np.arange(0, 800000, 25000))"
   ]
  },
  {
   "cell_type": "code",
   "execution_count": null,
   "id": "7d43b65d-2bf8-4633-98e2-16842fd86aa2",
   "metadata": {},
   "outputs": [],
   "source": [
    "percentile(50, bootstrap_sample.column('Total Compensation'))"
   ]
  },
  {
   "cell_type": "code",
   "execution_count": null,
   "id": "a8c5028e-7131-4e9c-ac78-46870cbfec8b",
   "metadata": {},
   "outputs": [],
   "source": [
    "def one_bootstrap_median():\n",
    "    # draw the bootstrap sample\n",
    "    resample = a_sample.sample(k = a_sample.num_rows, with_replacement = True)\n",
    "    # return the median total compensation in the bootstrap sample\n",
    "    return percentile(50, resample.column('Total Compensation'))"
   ]
  },
  {
   "cell_type": "code",
   "execution_count": null,
   "id": "25e6a955-049f-4bb9-9b38-85f01d6d1a44",
   "metadata": {},
   "outputs": [],
   "source": [
    "bootstrapped_sample_medians = make_array()\n",
    "num_resamples = 1000\n",
    "\n",
    "for i in np.arange(num_resamples):\n",
    "    new_median = one_bootstrap_median()\n",
    "    bootstrapped_sample_medians = np.append(bootstrapped_sample_medians, new_median)"
   ]
  },
  {
   "cell_type": "code",
   "execution_count": null,
   "id": "7d7dfd2d-90db-4e7e-bf27-1deac7205713",
   "metadata": {},
   "outputs": [],
   "source": [
    "bootstrapped_sample_medians"
   ]
  },
  {
   "cell_type": "markdown",
   "id": "3c2758de-c168-47ef-88c5-65cb0cbd069c",
   "metadata": {},
   "source": [
    "Now, we will use the fact that this dataset is our population as leverage to check whether our method of estimation is doing a good job."
   ]
  },
  {
   "cell_type": "code",
   "execution_count": null,
   "id": "673cc9e7-073c-49d5-857e-818afb5c6f3f",
   "metadata": {},
   "outputs": [],
   "source": [
    "bootstrapped_median_table = Table().with_column('Bootstrapped Sample Median', bootstrapped_sample_medians)\n",
    "bootstrapped_median_table.hist(bins = np.arange(125000, 155000, 2000))\n",
    "\n",
    "# Plotting parameters; you can ignore this code\n",
    "parameter_green = '#32CD32'\n",
    "plots.ylim(-0.000005, 0.00014)\n",
    "plots.scatter(pop_median, 0, color=parameter_green, s=40, zorder=2)\n",
    "plots.title('Do our bootstrapped medians cover the true value?*');"
   ]
  },
  {
   "cell_type": "markdown",
   "id": "3f5cadb0-5e5c-4f20-aa2c-277a4aee2e1e",
   "metadata": {},
   "source": [
    "**STOP**"
   ]
  },
  {
   "cell_type": "markdown",
   "id": "d7e92011-02ef-4125-b8dd-cc62d9bd56c8",
   "metadata": {},
   "source": [
    "### Percentiles help us describe ordered lists"
   ]
  },
  {
   "cell_type": "markdown",
   "id": "7c23176d-503a-4371-8753-ba1cfd62e645",
   "metadata": {},
   "source": [
    "**Discussion Questions** \n",
    "\n",
    "- Which statements are true when `s = array([1, 5, 7, 3, 9])`?\n",
    "\n",
    "1. The 50th percentile of `s` is 5.\n",
    "2. The 10th percentile of `s` is 6.\n",
    "3. The 39th percentile of `s` is the same as the 40th percentile of `s`. \n",
    "4. The 40th percentile of `s` is the same as the 41st percentile of `s`. "
   ]
  },
  {
   "cell_type": "code",
   "execution_count": null,
   "id": "54fca7e3-a6f1-437f-a902-daca520e3c6f",
   "metadata": {},
   "outputs": [],
   "source": [
    "s = make_array(1,5,7,3,9)"
   ]
  },
  {
   "cell_type": "code",
   "execution_count": null,
   "id": "bda60102-4aaf-40d5-9b7a-ab18864dccd2",
   "metadata": {},
   "outputs": [],
   "source": [
    "percentile(50, s) == 5"
   ]
  },
  {
   "cell_type": "code",
   "execution_count": null,
   "id": "72f010cf-20b1-41cd-9485-3755aef38c5f",
   "metadata": {},
   "outputs": [],
   "source": [
    "percentile(50, s) == 6"
   ]
  },
  {
   "cell_type": "code",
   "execution_count": null,
   "id": "ac89e406-fdb6-4d82-9b86-baa44466c85a",
   "metadata": {},
   "outputs": [],
   "source": [
    "percentile(39, s) == percentile(40, s)"
   ]
  },
  {
   "cell_type": "code",
   "execution_count": null,
   "id": "f911cebb-c5eb-4a64-bc26-ccde1d89a9df",
   "metadata": {},
   "outputs": [],
   "source": [
    "percentile(40, s) == percentile(41, s)"
   ]
  },
  {
   "cell_type": "code",
   "execution_count": null,
   "id": "0903e793-0938-4c5d-8e84-12f480fcab63",
   "metadata": {},
   "outputs": [],
   "source": [
    "left = percentile(2.5, bootstrapped_sample_medians)\n",
    "right = percentile(97.5, bootstrapped_sample_medians)\n",
    "\n",
    "make_array(left, right)"
   ]
  },
  {
   "cell_type": "markdown",
   "id": "f2d5de0f-8714-4e89-a3c1-2575bcf57db7",
   "metadata": {},
   "source": [
    "_____"
   ]
  },
  {
   "cell_type": "code",
   "execution_count": null,
   "id": "60de66ee-3375-4e6c-93bd-5d8b2748f8da",
   "metadata": {},
   "outputs": [],
   "source": [
    "t = make_array(1,3,3,7,9)"
   ]
  },
  {
   "cell_type": "code",
   "execution_count": null,
   "id": "edd24532-44e1-4262-9ff1-70f77d034147",
   "metadata": {},
   "outputs": [],
   "source": [
    "percentile(40, t)"
   ]
  },
  {
   "cell_type": "code",
   "execution_count": null,
   "id": "652640d7-b10d-4746-b37f-28f7aff07f91",
   "metadata": {},
   "outputs": [],
   "source": [
    "percentile(60, t)"
   ]
  },
  {
   "cell_type": "markdown",
   "id": "a993b813-19cd-4084-a960-d2083445a25c",
   "metadata": {},
   "source": [
    "**STOP**"
   ]
  },
  {
   "cell_type": "markdown",
   "id": "c7504adc-1813-4cd3-85a4-c4b5ed90ced3",
   "metadata": {},
   "source": [
    "### The confidence interval is a tool for estimation"
   ]
  },
  {
   "cell_type": "code",
   "execution_count": null,
   "id": "3ee676f1-8e8b-42aa-92b7-1f3c0dd90f95",
   "metadata": {},
   "outputs": [],
   "source": [
    "bootstrapped_median_table.hist(bins = np.arange(125000, 150000, 2000))\n",
    "\n",
    "# Plotting parameters; you can ignore this code\n",
    "plots.ylim(-0.000005, 0.00014)\n",
    "plots.plot(make_array(left, right), make_array(0, 0), color='yellow', lw=3, zorder=1)\n",
    "plots.scatter(pop_median, 0, color=parameter_green, s=40, zorder=2);\n",
    "plots.title('We are 95 percent confident that \\n the parameter lies within the yellow bounds');"
   ]
  },
  {
   "cell_type": "markdown",
   "id": "36f46596-91ba-47d4-8a6a-7bce3f8fbc61",
   "metadata": {},
   "source": [
    "In practice, when we make confidence intervals, we do not have the true value of the parameter. We have it today for teaching purposes. We will not know in reality whether the bootstrapped distribution of statistics covers the parameter (we hope that it does)."
   ]
  },
  {
   "cell_type": "markdown",
   "id": "7e15541c-3894-4fef-a8f8-42768cd6507c",
   "metadata": {},
   "source": [
    "**Discussion Question 6**"
   ]
  }
 ],
 "metadata": {
  "kernelspec": {
   "display_name": "Python 3 (ipykernel)",
   "language": "python",
   "name": "python3"
  },
  "language_info": {
   "codemirror_mode": {
    "name": "ipython",
    "version": 3
   },
   "file_extension": ".py",
   "mimetype": "text/x-python",
   "name": "python",
   "nbconvert_exporter": "python",
   "pygments_lexer": "ipython3",
   "version": "3.12.4"
  }
 },
 "nbformat": 4,
 "nbformat_minor": 5
}
