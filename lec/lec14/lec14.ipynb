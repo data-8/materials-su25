{
 "cells": [
  {
   "cell_type": "code",
   "execution_count": null,
   "id": "29a9b460-2885-4d79-ab50-cbaf589674be",
   "metadata": {},
   "outputs": [],
   "source": [
    "from datascience import *\n",
    "import numpy as np\n",
    "\n",
    "%matplotlib inline\n",
    "import matplotlib.pyplot as plots\n",
    "plots.style.use('fivethirtyeight')"
   ]
  },
  {
   "cell_type": "markdown",
   "id": "2016e18f-78f6-427c-b3e4-1ba3e1ce0c14",
   "metadata": {},
   "source": [
    "## New material"
   ]
  },
  {
   "cell_type": "code",
   "execution_count": null,
   "id": "5d1f003b-a4fb-43ed-9e15-55ccde7ef130",
   "metadata": {},
   "outputs": [],
   "source": [
    "united = Table.read_table('united.csv')\n",
    "united"
   ]
  },
  {
   "cell_type": "markdown",
   "id": "aec3caff-953d-4437-9059-0c49ad8d366b",
   "metadata": {},
   "source": [
    "### Make sure you remember these terms!"
   ]
  },
  {
   "cell_type": "code",
   "execution_count": null,
   "id": "75fbc828-b385-4ab2-bf5f-1abcc7c9db55",
   "metadata": {},
   "outputs": [],
   "source": [
    "np.median(united.column('Delay'))"
   ]
  },
  {
   "cell_type": "code",
   "execution_count": null,
   "id": "310878d4-0361-4388-a2f6-c6d70fc7287d",
   "metadata": {},
   "outputs": [],
   "source": [
    "ten_flights = united.sample(k=10)\n",
    "ten_flights"
   ]
  },
  {
   "cell_type": "code",
   "execution_count": null,
   "id": "30257319-e1df-4e24-8953-62fb10bf7478",
   "metadata": {},
   "outputs": [],
   "source": [
    "np.median(ten_flights.column('Delay'))"
   ]
  },
  {
   "cell_type": "markdown",
   "id": "c676d8a0-184c-4187-8737-99bb05018f5e",
   "metadata": {},
   "source": [
    "**STOP**"
   ]
  },
  {
   "cell_type": "markdown",
   "id": "9908dc8d-8097-4a0f-be5e-3a9050573f1e",
   "metadata": {},
   "source": [
    "### Types of samples"
   ]
  },
  {
   "cell_type": "markdown",
   "id": "a028762a-ac9b-4d2c-80fa-eb9492f53973",
   "metadata": {},
   "source": [
    "I'm going to add a column called `Row` that I think will help keep track of what is going on in these next few code cells."
   ]
  },
  {
   "cell_type": "code",
   "execution_count": null,
   "id": "98ac6c9b-5021-4dec-b129-b0d9f45fbe7b",
   "metadata": {},
   "outputs": [],
   "source": [
    "united = united.with_column('Row', np.arange(united.num_rows)).move_to_start('Row')\n",
    "united"
   ]
  },
  {
   "cell_type": "markdown",
   "id": "aa7bcbdb-18de-48a5-b2ed-577b869b478a",
   "metadata": {
    "jp-MarkdownHeadingCollapsed": true
   },
   "source": [
    "#### **Task**: Take some *determinstic* samples of 5 rows from the `united` table."
   ]
  },
  {
   "cell_type": "code",
   "execution_count": null,
   "id": "31ff6765-8c5e-49b1-96cd-0910f7e71e33",
   "metadata": {},
   "outputs": [],
   "source": [
    "united.where('Destination', 'JFK').take(np.arange(5))"
   ]
  },
  {
   "cell_type": "code",
   "execution_count": null,
   "id": "4d843d88-afbb-40f8-a7fe-f50b717590b7",
   "metadata": {},
   "outputs": [],
   "source": [
    "united.take(np.arange(start = 75, stop = 100, step = 5))"
   ]
  },
  {
   "cell_type": "code",
   "execution_count": null,
   "id": "ff1bb7fe-0445-48bd-8b9a-783757f9a357",
   "metadata": {},
   "outputs": [],
   "source": [
    "united.take(make_array(100,217,324,432,510))"
   ]
  },
  {
   "cell_type": "markdown",
   "id": "87d78507-a311-4863-8624-d89313ab0f4e",
   "metadata": {
    "jp-MarkdownHeadingCollapsed": true
   },
   "source": [
    "#### **Task**: Take a convenience sample of size 5 from the `united` table. "
   ]
  },
  {
   "cell_type": "code",
   "execution_count": null,
   "id": "283afe79-2300-4e11-a219-ff84deef4ed7",
   "metadata": {},
   "outputs": [],
   "source": [
    "united.take(np.arange(5))"
   ]
  },
  {
   "cell_type": "markdown",
   "id": "4ea1b309-4f0b-42e2-8289-90f7b1bb95f7",
   "metadata": {},
   "source": [
    "#### **Task**: Take some *random* samples of 5 rows from the `united` table."
   ]
  },
  {
   "cell_type": "markdown",
   "id": "00f849d7-067c-486b-af53-0eff2e10c49d",
   "metadata": {
    "jp-MarkdownHeadingCollapsed": true
   },
   "source": [
    "##### Way 1: randomly pick a starting point and pick every 5th row from that point"
   ]
  },
  {
   "cell_type": "code",
   "execution_count": null,
   "id": "dbb32f75-2a6e-48bb-ba2a-8c9454618c50",
   "metadata": {},
   "outputs": [],
   "source": [
    "start = np.random.choice(np.arange(1000))"
   ]
  },
  {
   "cell_type": "code",
   "execution_count": null,
   "id": "84910189-9e10-45df-8574-b6fd0699b756",
   "metadata": {},
   "outputs": [],
   "source": [
    "start"
   ]
  },
  {
   "cell_type": "code",
   "execution_count": null,
   "id": "d444ab44-79bd-4391-864f-e602961d764c",
   "metadata": {},
   "outputs": [],
   "source": [
    "random_sample_1 = united.take(np.arange(start, stop=start + 25, step=5))\n",
    "random_sample_1"
   ]
  },
  {
   "cell_type": "markdown",
   "id": "fa6d8679-15f5-4ccd-88b2-00bcdc5dbde4",
   "metadata": {},
   "source": [
    "##### Way 2: pick five rows at random"
   ]
  },
  {
   "cell_type": "code",
   "execution_count": null,
   "id": "61e00d66-e0c5-4b09-a993-3292ac243333",
   "metadata": {},
   "outputs": [],
   "source": [
    "united.sample(k=5, with_replacement=False)"
   ]
  },
  {
   "cell_type": "markdown",
   "id": "37738f2b-c1ff-4a12-9a4b-34f8c91feb3f",
   "metadata": {},
   "source": [
    "**STOP**"
   ]
  },
  {
   "cell_type": "markdown",
   "id": "1d4aa010-a58d-46be-8984-b84fb824fb8b",
   "metadata": {},
   "source": [
    "### Distributions also apply to random quantities"
   ]
  },
  {
   "cell_type": "code",
   "execution_count": null,
   "id": "b025ab13-d413-402d-98e1-6f5e2fe22b1f",
   "metadata": {},
   "outputs": [],
   "source": [
    "die = Table().with_column('Face', np.arange(1, 7))\n",
    "die"
   ]
  },
  {
   "cell_type": "code",
   "execution_count": null,
   "id": "5efe57f9-6dfb-4d79-abc9-12237ddf51b4",
   "metadata": {},
   "outputs": [],
   "source": [
    "die.hist(bins = make_array(1,2,3,4,5,6,7),unit = 'spot')\n",
    "print('Probability (theoretical) distribution: Each spot has an equal chance of being rolled')"
   ]
  },
  {
   "cell_type": "code",
   "execution_count": null,
   "id": "80021119-6ac2-412e-9dd8-93bcc0f18cbe",
   "metadata": {},
   "outputs": [],
   "source": [
    "die.sample(10).hist(bins = make_array(1,2,3,4,5,6,7),unit = 'spot')\n",
    "print('Empirical Distribution: this histogram will vary each time you run this code!')"
   ]
  },
  {
   "cell_type": "markdown",
   "id": "52ab67b5-bd72-43b7-a414-6c157c291631",
   "metadata": {},
   "source": [
    "**STOP**"
   ]
  },
  {
   "cell_type": "markdown",
   "id": "afbcacc2-ec62-49ef-9b11-5b5fe62499c4",
   "metadata": {},
   "source": [
    "### The LLN applies to empirical distributions"
   ]
  },
  {
   "cell_type": "markdown",
   "id": "e3608d50-d216-49c0-b895-5274df89bdf6",
   "metadata": {},
   "source": [
    "#### **Task (distributions)**: Create:\n",
    "- The theoretical probability distribution of a six-sided die\n",
    "- The observed probability distribution of a six-sided die after: 10, 100, 1,000 and 10,000 rolls."
   ]
  },
  {
   "cell_type": "markdown",
   "id": "9661a089-0182-4848-95bd-b5b32dfcf313",
   "metadata": {},
   "source": [
    "**Theoretical distribution (reminder from earlier)**"
   ]
  },
  {
   "cell_type": "code",
   "execution_count": null,
   "id": "2216d30c-00d3-424f-8bda-77d7a8a22793",
   "metadata": {},
   "outputs": [],
   "source": [
    "die.hist(bins = make_array(1,2,3,4,5,6,7),unit = 'spot')\n",
    "print('Probability (theoretical) distribution: Each spot has an equal chance of being rolled')"
   ]
  },
  {
   "cell_type": "markdown",
   "id": "b9deda9f-031c-4e19-88f5-c70cd0c3ea83",
   "metadata": {},
   "source": [
    "**Observed (empirical) distributions**"
   ]
  },
  {
   "cell_type": "code",
   "execution_count": null,
   "id": "2078a6f5-5e29-41f8-9cbb-e8e6eee8039f",
   "metadata": {},
   "outputs": [],
   "source": [
    "die.sample(5).hist(bins = make_array(1,2,3,4,5,6,7),unit = 'spot')"
   ]
  },
  {
   "cell_type": "markdown",
   "id": "38d30b94-a60b-4de5-bfd8-a04fd0696432",
   "metadata": {},
   "source": [
    "Let's make this easier using a function!"
   ]
  },
  {
   "cell_type": "code",
   "execution_count": null,
   "id": "5b286b2f-dce9-445c-84b7-a5db43225d23",
   "metadata": {},
   "outputs": [],
   "source": [
    "def observed_die_distribution(k):\n",
    "    observed_die_rolls = die.sample(k)\n",
    "    observed_die_rolls.hist(bins = make_array(1,2,3,4,5,6,7),unit = 'spot')"
   ]
  },
  {
   "cell_type": "code",
   "execution_count": null,
   "id": "9849686e-74ec-4fc6-9f07-5000fa506eb7",
   "metadata": {},
   "outputs": [],
   "source": [
    "observed_die_distribution(10)\n",
    "print(\"This doesn't look much like the theoretical distribution!\")"
   ]
  },
  {
   "cell_type": "code",
   "execution_count": null,
   "id": "8d588a58-c533-4bb7-b0d9-679e321933ef",
   "metadata": {},
   "outputs": [],
   "source": [
    "observed_die_distribution(100)\n",
    "print('This looks closer to the theoretical distribution!')"
   ]
  },
  {
   "cell_type": "code",
   "execution_count": null,
   "id": "f2b4c8e6-7518-468e-b95b-64e20a78ec44",
   "metadata": {},
   "outputs": [],
   "source": [
    "observed_die_distribution(1000)\n",
    "print('This looks much more like the theoretical distribution!')"
   ]
  },
  {
   "cell_type": "code",
   "execution_count": null,
   "id": "dba771b2-c030-4bb4-ae17-dcfcf1f62709",
   "metadata": {},
   "outputs": [],
   "source": [
    "observed_die_distribution(10000)\n",
    "print('This looks a lot like the theoretical distribution!')"
   ]
  },
  {
   "cell_type": "markdown",
   "id": "f9b47cb8-cf9e-4627-9ac9-e4a4ec36e1f8",
   "metadata": {},
   "source": [
    "**STOP**"
   ]
  },
  {
   "cell_type": "markdown",
   "id": "2d9110ed-29b8-4fef-af35-15a86aa3e918",
   "metadata": {},
   "source": [
    "### Distributions also apply to random quantities"
   ]
  },
  {
   "cell_type": "markdown",
   "id": "42e56988-6ed5-48cb-bf74-715248dd8fce",
   "metadata": {},
   "source": [
    "#### **Task**: Find or create\n",
    "- The median delay time (in minutes) across all United flights from 6/1/15 to 8/9/15.\n",
    "- The observed distribution of median delay times after taking samples (*with replacement*) of: 10, 100, 1,000 and 10,000 randomly sampled flights."
   ]
  },
  {
   "cell_type": "code",
   "execution_count": null,
   "id": "2ebf4f88-dcf1-46a3-b6b9-c0da8dd05b85",
   "metadata": {},
   "outputs": [],
   "source": [
    "np.median(united.column('Delay'))"
   ]
  },
  {
   "cell_type": "code",
   "execution_count": null,
   "id": "453b9068-1e14-4968-8ef9-c96c432ba8ea",
   "metadata": {},
   "outputs": [],
   "source": [
    "ten_flights = united.sample(k=10)"
   ]
  },
  {
   "cell_type": "code",
   "execution_count": null,
   "id": "8322663b-90f1-41f6-bf78-6b591033ff11",
   "metadata": {},
   "outputs": [],
   "source": [
    "np.median(ten_flights.column('Delay'))"
   ]
  },
  {
   "cell_type": "code",
   "execution_count": null,
   "id": "d6696b0a-2bee-4fca-9ca2-5b9c8873d7ef",
   "metadata": {},
   "outputs": [],
   "source": [
    "def observed_sample_median(sample_size):\n",
    "    \n",
    "    k_flights = united.sample(k=sample_size)\n",
    "    \n",
    "    return np.median(k_flights.column('Delay'))"
   ]
  },
  {
   "cell_type": "code",
   "execution_count": null,
   "id": "70e1fe28-50a8-4a7c-9a5a-e2baf79a51a8",
   "metadata": {},
   "outputs": [],
   "source": [
    "observed_sample_median(100)"
   ]
  },
  {
   "cell_type": "markdown",
   "id": "1dda2812-9817-4fe0-8a10-8050b73dc88b",
   "metadata": {},
   "source": [
    "##### **Discussion** [1 min]: \n",
    "- What are the data type(s) of the input?\n",
    "- What is the data type of the output?"
   ]
  },
  {
   "cell_type": "code",
   "execution_count": null,
   "id": "05c85ea3-be8d-4435-99a6-20fe0d1f7f91",
   "metadata": {},
   "outputs": [],
   "source": [
    "def observed_sample_median_distribution(repetition_size, sample_size):\n",
    "\n",
    "    observed_sample_medians = make_array()\n",
    "\n",
    "    for i in np.arange(repetition_size):\n",
    "        new_median = observed_sample_median(sample_size)\n",
    "        observed_sample_medians = np.append(observed_sample_medians, new_median)\n",
    "\n",
    "    return observed_sample_medians"
   ]
  },
  {
   "cell_type": "markdown",
   "id": "0346360f-ac6c-411f-af34-1cc35c28132c",
   "metadata": {},
   "source": [
    "Discussion [1 min]: For the LLN to be invoked, what kinds of numbers should you put in the `sample_size` argument?\n",
    "\n",
    "- 10?\n",
    "- 1000?"
   ]
  },
  {
   "cell_type": "code",
   "execution_count": null,
   "id": "d018fd8c-1731-4418-ac32-7f8be1468de0",
   "metadata": {},
   "outputs": [],
   "source": [
    "results = observed_sample_median_distribution(repetition_size=1000,sample_size=...)"
   ]
  },
  {
   "cell_type": "code",
   "execution_count": null,
   "id": "f23ac534-ab96-419a-a056-4242dba60058",
   "metadata": {
    "scrolled": true
   },
   "outputs": [],
   "source": [
    "Table().with_column('Sample medians', results).hist()"
   ]
  },
  {
   "cell_type": "markdown",
   "id": "8b348922-346a-4a30-b7fe-9c4e838b312c",
   "metadata": {
    "jp-MarkdownHeadingCollapsed": true
   },
   "source": [
    "## Review\n",
    "- conducted at https://pollev.com/jeremysanchez."
   ]
  }
 ],
 "metadata": {
  "kernelspec": {
   "display_name": "Python 3 (ipykernel)",
   "language": "python",
   "name": "python3"
  },
  "language_info": {
   "codemirror_mode": {
    "name": "ipython",
    "version": 3
   },
   "file_extension": ".py",
   "mimetype": "text/x-python",
   "name": "python",
   "nbconvert_exporter": "python",
   "pygments_lexer": "ipython3",
   "version": "3.12.4"
  }
 },
 "nbformat": 4,
 "nbformat_minor": 5
}
