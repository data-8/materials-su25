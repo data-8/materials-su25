{
 "cells": [
  {
   "cell_type": "code",
   "execution_count": 4,
   "metadata": {},
   "outputs": [],
   "source": [
    "from datascience import *\n",
    "%matplotlib inline\n",
    "\n",
    "import matplotlib.pyplot as plt\n",
    "plt.style.use('fivethirtyeight')\n",
    "import numpy as np\n",
    "import warnings\n",
    "warnings.simplefilter(action='ignore', category=np.VisibleDeprecationWarning)"
   ]
  },
  {
   "cell_type": "markdown",
   "metadata": {},
   "source": [
    "## New material"
   ]
  },
  {
   "cell_type": "markdown",
   "metadata": {},
   "source": [
    "### Probability Question 1"
   ]
  },
  {
   "cell_type": "markdown",
   "metadata": {},
   "source": [
    "$P(\\{Q, K\\})$"
   ]
  },
  {
   "cell_type": "markdown",
   "metadata": {},
   "source": [
    "- Solution with equally likely outcomes:\n",
    "\n",
    "$$\\{A, Q\\}, \\{A, K\\}, \\{K, Q\\}, \\{K, A\\}, \\textbf{\\{Q, K\\}}, \\{Q, A\\}$$"
   ]
  },
  {
   "cell_type": "markdown",
   "metadata": {},
   "source": [
    "so $P(\\{Q, K\\})$ = $\\frac{1}{6}$"
   ]
  },
  {
   "cell_type": "markdown",
   "metadata": {},
   "source": [
    "Another solution: $P(\\{Q, K\\})$ = $P(Q \\text{ on first draw}) * P(K \\text{ on second draw})$  = $\\frac{1}{3} * \\frac{1}{2} = \\frac{1}{6}$\n",
    "\n",
    "- This solution uses the **multplication rule**."
   ]
  },
  {
   "cell_type": "markdown",
   "metadata": {},
   "source": [
    "**STOP**"
   ]
  },
  {
   "cell_type": "markdown",
   "metadata": {},
   "source": [
    "### Probability Question 2"
   ]
  },
  {
   "cell_type": "markdown",
   "metadata": {},
   "source": [
    "$P(\\{Q, K\\})$"
   ]
  },
  {
   "cell_type": "markdown",
   "metadata": {},
   "source": [
    "- Solution with equally likely outcomes:\n",
    "\n",
    "$$\\{A, Q\\}, \\{A, K\\}, \\{K, Q\\}, \\{K, A\\}, \\textbf{\\{Q, K\\}}, \\{Q, A\\}, \\{K, K\\}, {\\{A, A\\}}, \\{Q, Q\\}$$"
   ]
  },
  {
   "cell_type": "markdown",
   "metadata": {},
   "source": [
    "so $P(\\{Q, K\\})$ = $\\frac{1}{9}$"
   ]
  },
  {
   "cell_type": "markdown",
   "metadata": {},
   "source": [
    "Another solution: $P(\\{Q, K\\})$ = $P(Q \\text{ on first draw}) * P(K \\text{ on second draw})$  = $\\frac{1}{3} * \\frac{1}{3} = \\frac{1}{9}$\n",
    "- This solution uses the **multplication rule**."
   ]
  },
  {
   "cell_type": "markdown",
   "metadata": {},
   "source": [
    "**STOP**"
   ]
  },
  {
   "cell_type": "markdown",
   "metadata": {},
   "source": [
    "### Probability Question 3"
   ]
  },
  {
   "cell_type": "markdown",
   "metadata": {},
   "source": [
    "- Solution with equally likely outcomes:\n",
    "\n",
    "$$\\{A, Q\\}, \\{A, K\\}, \\textbf{\\{K, Q\\}}, \\{K, A\\}, \\textbf{\\{Q, K\\}}, \\{Q, A\\}$$"
   ]
  },
  {
   "cell_type": "markdown",
   "metadata": {},
   "source": [
    "so $P(\\{Q, K\\})$ = $\\frac{2}{6}$"
   ]
  },
  {
   "cell_type": "markdown",
   "metadata": {},
   "source": [
    "Another solution: The two bolded outcomes are distinct (they cannot happen at the same time). So we have that"
   ]
  },
  {
   "cell_type": "markdown",
   "metadata": {},
   "source": [
    "$P(\\text{ending up with } Q \\text{ and } K)$ = $P(\\{Q, K\\})$ + $P(\\{K, Q\\})$ = $\\frac{1}{6} + \\frac{1}{6} = \\frac{2}{6} = \\frac{1}{3}$\n",
    "- This solution uses the **addition rule**."
   ]
  },
  {
   "cell_type": "markdown",
   "metadata": {},
   "source": [
    "**STOP**"
   ]
  },
  {
   "cell_type": "markdown",
   "metadata": {},
   "source": [
    "### Probability Question 4"
   ]
  },
  {
   "cell_type": "markdown",
   "metadata": {},
   "source": [
    "- Solution with equally likely outcomes:\n",
    "\n",
    "$$\\textbf{\\{A, Q\\}}, \\textbf{\\{A, K\\}}, \\{K, Q\\}, \\textbf{\\{K, A\\}}, \\{Q, K\\}, \\textbf{\\{Q, A\\}}$$"
   ]
  },
  {
   "cell_type": "markdown",
   "metadata": {},
   "source": [
    "so $P(\\{Q, K\\})$ = $\\frac{4}{6}$"
   ]
  },
  {
   "cell_type": "markdown",
   "metadata": {},
   "source": [
    "Another solution: \n",
    "- The pair of cards either contains an ace or it does not.\n",
    "- We already found the probability that the pair does not contain an ace. What is it? (30 sec-1 min)"
   ]
  },
  {
   "cell_type": "markdown",
   "metadata": {},
   "source": [
    "$P(\\text{ending up with at least one } A)$ = $1$ - ($P(\\{Q, K\\})$ + $P(\\{K, Q\\})$ = $\\frac{4}{6}$ = $\\frac{2}{3}$\n",
    "- This solution uses the **complement rule**."
   ]
  },
  {
   "cell_type": "markdown",
   "metadata": {},
   "source": [
    "**STOP**"
   ]
  },
  {
   "cell_type": "markdown",
   "metadata": {},
   "source": [
    "### The Monty Hall Problem is a great case to simulate! ###"
   ]
  },
  {
   "cell_type": "code",
   "execution_count": 5,
   "metadata": {},
   "outputs": [
    {
     "data": {
      "text/plain": [
       "array(['car', 'first goat', 'second goat'],\n",
       "      dtype='<U11')"
      ]
     },
     "execution_count": 5,
     "metadata": {},
     "output_type": "execute_result"
    }
   ],
   "source": [
    "goats = make_array('first goat', 'second goat')\n",
    "doors = make_array('car', 'first goat', 'second goat')\n",
    "doors"
   ]
  },
  {
   "cell_type": "markdown",
   "metadata": {},
   "source": [
    "A goat is always revealed. First, we'll define a function that determines which goat is revealed."
   ]
  },
  {
   "cell_type": "code",
   "execution_count": 7,
   "metadata": {},
   "outputs": [],
   "source": [
    "def other_goat(x):\n",
    "    if x == 'first goat':\n",
    "        return 'second goat'\n",
    "    elif x == 'second goat':\n",
    "        return 'first goat'"
   ]
  },
  {
   "cell_type": "code",
   "execution_count": 9,
   "metadata": {},
   "outputs": [
    {
     "data": {
      "text/plain": [
       "array(['second goat', 'first goat'],\n",
       "      dtype='<U11')"
      ]
     },
     "execution_count": 9,
     "metadata": {},
     "output_type": "execute_result"
    }
   ],
   "source": [
    "make_array(other_goat('first goat'), other_goat('second goat'))"
   ]
  },
  {
   "cell_type": "code",
   "execution_count": 10,
   "metadata": {},
   "outputs": [],
   "source": [
    "def monty_hall():\n",
    "    \"\"\"Return \n",
    "    [contestant's guess, what Monty reveals, \n",
    "    what remains behind the other door]\"\"\"\n",
    "    \n",
    "    #Contest randonmly chooses one of the three doors\n",
    "    contestant_choice = np.random.choice(doors)\n",
    "\n",
    "    #Scenario #1 - Contestant chooses the first goat\n",
    "    if contestant_choice == 'first goat':\n",
    "        monty_choice = 'second goat'\n",
    "        remaining_choice = 'car'\n",
    "        \n",
    "    #Scenario #2 - Contestant chooses the second goat\n",
    "    elif contestant_choice == 'second goat':\n",
    "        monty_choice = 'first goat'\n",
    "        remaining_choice = 'car'\n",
    "    \n",
    "   #Scenario #3 - Contestant chooses the car\n",
    "    elif contestant_choice == 'car':\n",
    "        monty_choice = np.random.choice(goats)\n",
    "        remaining_choice = other_goat(monty_choice)\n",
    "        \n",
    "    return make_array(contestant_choice, monty_choice, remaining_choice)"
   ]
  },
  {
   "cell_type": "code",
   "execution_count": 17,
   "metadata": {},
   "outputs": [
    {
     "data": {
      "text/plain": [
       "array(['second goat', 'first goat', 'car'],\n",
       "      dtype='<U11')"
      ]
     },
     "execution_count": 17,
     "metadata": {},
     "output_type": "execute_result"
    }
   ],
   "source": [
    "monty_hall()"
   ]
  },
  {
   "cell_type": "code",
   "execution_count": 18,
   "metadata": {},
   "outputs": [
    {
     "data": {
      "text/html": [
       "<table border=\"1\" class=\"dataframe\">\n",
       "    <thead>\n",
       "        <tr>\n",
       "            <th>Contestant's Choice</th> <th>Monty's Choice</th> <th>Remaining</th>\n",
       "        </tr>\n",
       "    </thead>\n",
       "    <tbody>\n",
       "    </tbody>\n",
       "</table>"
      ],
      "text/plain": [
       "Contestant's Choice | Monty's Choice | Remaining"
      ]
     },
     "execution_count": 18,
     "metadata": {},
     "output_type": "execute_result"
    }
   ],
   "source": [
    "results = Table(make_array(\"Contestant's Choice\", \"Monty's Choice\", 'Remaining'))\n",
    "results"
   ]
  },
  {
   "cell_type": "code",
   "execution_count": 19,
   "metadata": {},
   "outputs": [],
   "source": [
    "results = Table(make_array(\"Contestant's Choice\", \"Monty's Choice\", 'Remaining'))\n",
    "\n",
    "for i in np.arange(10000):\n",
    "    # this is the table method append-- not the numpy (array method) append\n",
    "    # with the table method, you do not need to save the table back into itself\n",
    "    results.append(monty_hall())\n"
   ]
  },
  {
   "cell_type": "code",
   "execution_count": 23,
   "metadata": {},
   "outputs": [
    {
     "data": {
      "text/html": [
       "<table border=\"1\" class=\"dataframe\">\n",
       "    <thead>\n",
       "        <tr>\n",
       "            <th>Contestant's Choice</th> <th>Monty's Choice</th> <th>Remaining</th>\n",
       "        </tr>\n",
       "    </thead>\n",
       "    <tbody>\n",
       "        <tr>\n",
       "            <td>car                </td> <td>first goat    </td> <td>second goat</td>\n",
       "        </tr>\n",
       "        <tr>\n",
       "            <td>first goat         </td> <td>second goat   </td> <td>car        </td>\n",
       "        </tr>\n",
       "        <tr>\n",
       "            <td>second goat        </td> <td>first goat    </td> <td>car        </td>\n",
       "        </tr>\n",
       "    </tbody>\n",
       "</table>\n",
       "<p>... (9997 rows omitted)</p>"
      ],
      "text/plain": [
       "<IPython.core.display.HTML object>"
      ]
     },
     "metadata": {},
     "output_type": "display_data"
    }
   ],
   "source": [
    "results.show(3)"
   ]
  },
  {
   "cell_type": "code",
   "execution_count": null,
   "metadata": {},
   "outputs": [],
   "source": [
    "results.group(\"Contestant's Choice\").barh(\"Contestant's Choice\")"
   ]
  },
  {
   "cell_type": "code",
   "execution_count": 27,
   "metadata": {},
   "outputs": [
    {
     "data": {
      "text/html": [
       "<table border=\"1\" class=\"dataframe\">\n",
       "    <thead>\n",
       "        <tr>\n",
       "            <th>Remaining</th> <th>count</th>\n",
       "        </tr>\n",
       "    </thead>\n",
       "    <tbody>\n",
       "        <tr>\n",
       "            <td>car        </td> <td>6625 </td>\n",
       "        </tr>\n",
       "        <tr>\n",
       "            <td>first goat </td> <td>1656 </td>\n",
       "        </tr>\n",
       "        <tr>\n",
       "            <td>second goat</td> <td>1719 </td>\n",
       "        </tr>\n",
       "    </tbody>\n",
       "</table>"
      ],
      "text/plain": [
       "Remaining   | count\n",
       "car         | 6625\n",
       "first goat  | 1656\n",
       "second goat | 1719"
      ]
     },
     "execution_count": 27,
     "metadata": {},
     "output_type": "execute_result"
    }
   ],
   "source": [
    "results.group('Remaining')"
   ]
  },
  {
   "cell_type": "code",
   "execution_count": 28,
   "metadata": {},
   "outputs": [],
   "source": [
    "results_grouped = results.group('Remaining')"
   ]
  },
  {
   "cell_type": "code",
   "execution_count": 22,
   "metadata": {},
   "outputs": [
    {
     "data": {
      "text/html": [
       "<table border=\"1\" class=\"dataframe\">\n",
       "    <thead>\n",
       "        <tr>\n",
       "            <th>Remaining</th> <th>count</th>\n",
       "        </tr>\n",
       "    </thead>\n",
       "    <tbody>\n",
       "        <tr>\n",
       "            <td>car        </td> <td>6625 </td>\n",
       "        </tr>\n",
       "        <tr>\n",
       "            <td>first goat </td> <td>1656 </td>\n",
       "        </tr>\n",
       "        <tr>\n",
       "            <td>second goat</td> <td>1719 </td>\n",
       "        </tr>\n",
       "    </tbody>\n",
       "</table>"
      ],
      "text/plain": [
       "Remaining   | count\n",
       "car         | 6625\n",
       "first goat  | 1656\n",
       "second goat | 1719"
      ]
     },
     "execution_count": 22,
     "metadata": {},
     "output_type": "execute_result"
    }
   ],
   "source": [
    "results_grouped"
   ]
  },
  {
   "cell_type": "markdown",
   "metadata": {},
   "source": [
    "Remember a variant of this function from earlier in the course?"
   ]
  },
  {
   "cell_type": "code",
   "execution_count": 25,
   "metadata": {},
   "outputs": [],
   "source": [
    "def proportions(s):    \n",
    "    \"\"\"given an array, \n",
    "    give us the proportion that each element in the array contributes to the total\"\"\"\n",
    "    return np.round(s / sum(s), 2)"
   ]
  },
  {
   "cell_type": "code",
   "execution_count": 26,
   "metadata": {},
   "outputs": [
    {
     "data": {
      "text/plain": [
       "array([ 0.66,  0.17,  0.17])"
      ]
     },
     "execution_count": 26,
     "metadata": {},
     "output_type": "execute_result"
    }
   ],
   "source": [
    "proportions(results_grouped.column('count'))"
   ]
  },
  {
   "cell_type": "markdown",
   "metadata": {},
   "source": [
    "______"
   ]
  },
  {
   "cell_type": "markdown",
   "metadata": {
    "jp-MarkdownHeadingCollapsed": true
   },
   "source": [
    "### Challenge Task\n",
    "- Use simulation to corroborate the results we got for Questions 1 and 3 earlier in this demo."
   ]
  },
  {
   "cell_type": "code",
   "execution_count": null,
   "metadata": {},
   "outputs": [],
   "source": [
    "cards = make_array('A', 'K', 'Q')\n",
    "cards"
   ]
  },
  {
   "cell_type": "code",
   "execution_count": null,
   "metadata": {},
   "outputs": [],
   "source": [
    "np.random.choice(cards, 2, replace=False)"
   ]
  },
  {
   "cell_type": "markdown",
   "metadata": {},
   "source": [
    "To do the above, you could have also made an array of size six and drawn from this six times."
   ]
  },
  {
   "cell_type": "markdown",
   "metadata": {},
   "source": [
    "Now, let's define a function to simulate the game"
   ]
  },
  {
   "cell_type": "code",
   "execution_count": 1,
   "metadata": {},
   "outputs": [],
   "source": [
    "def three_card_game():\n",
    "    two_cards_drawn = np.random.choice(cards, 2, replace=False)\n",
    "    return make_array(two_cards_drawn.item(0), two_cards_drawn.item(1))"
   ]
  },
  {
   "cell_type": "code",
   "execution_count": null,
   "metadata": {},
   "outputs": [],
   "source": [
    "three_card_game()"
   ]
  },
  {
   "cell_type": "code",
   "execution_count": null,
   "metadata": {},
   "outputs": [],
   "source": [
    "results = Table(make_array('First Card', 'Second Card'))\n",
    "results"
   ]
  },
  {
   "cell_type": "markdown",
   "metadata": {},
   "source": [
    "Repeat the simulation 10,000 times."
   ]
  },
  {
   "cell_type": "code",
   "execution_count": null,
   "metadata": {},
   "outputs": [],
   "source": [
    "for i in np.arange(10000):\n",
    "    results.append(three_card_game())\n",
    "results.show(5)"
   ]
  },
  {
   "cell_type": "markdown",
   "metadata": {},
   "source": [
    "Getting the count of each unique 2 card combinations from the simulations"
   ]
  },
  {
   "cell_type": "code",
   "execution_count": null,
   "metadata": {},
   "outputs": [],
   "source": [
    "results_grouped = results.group(make_array('First Card','Second Card'))\n",
    "results_grouped"
   ]
  },
  {
   "cell_type": "markdown",
   "metadata": {},
   "source": [
    "Let's see if the number of unique combinations is what we wrote above."
   ]
  },
  {
   "cell_type": "code",
   "execution_count": null,
   "metadata": {},
   "outputs": [],
   "source": [
    "unique_combinations = results_grouped.num_rows\n",
    "unique_combinations"
   ]
  },
  {
   "cell_type": "markdown",
   "metadata": {},
   "source": [
    "How many times each combination appeared:"
   ]
  },
  {
   "cell_type": "code",
   "execution_count": null,
   "metadata": {},
   "outputs": [],
   "source": [
    "card_counts = results_grouped.column('count')"
   ]
  },
  {
   "cell_type": "markdown",
   "metadata": {},
   "source": [
    "How many total simulations were conducted:\n"
   ]
  },
  {
   "cell_type": "code",
   "execution_count": null,
   "metadata": {},
   "outputs": [],
   "source": [
    "total_simulations = sum(results_grouped.column('count'))"
   ]
  },
  {
   "cell_type": "markdown",
   "metadata": {},
   "source": [
    "Updating the table to contain the proportion of times each combination appeared:"
   ]
  },
  {
   "cell_type": "code",
   "execution_count": null,
   "metadata": {},
   "outputs": [],
   "source": [
    "results_grouped = results_grouped.with_column('Proportion',(card_counts/total_simulations))\n",
    "results_grouped"
   ]
  },
  {
   "cell_type": "markdown",
   "metadata": {},
   "source": [
    "This justifies our earlier calculations. \n",
    "\n",
    "- The proportion of $\\{Q, K\\}$ is approximately $\\frac{1}{6}$!\n",
    "- the combined proportion of either $\\{Q, K\\}$ or  $\\{K, Q\\}$ is $\\frac{2}{6} = \\frac{1}{3}$!"
   ]
  },
  {
   "cell_type": "markdown",
   "metadata": {
    "jp-MarkdownHeadingCollapsed": true
   },
   "source": [
    "## Review"
   ]
  },
  {
   "cell_type": "markdown",
   "metadata": {},
   "source": [
    "#### Discussion Question: \n",
    "\n",
    "Examine the following function and its conditional statement. What change should be made to the `sign()` function?"
   ]
  },
  {
   "cell_type": "code",
   "execution_count": null,
   "metadata": {},
   "outputs": [],
   "source": [
    "def sign(x):\n",
    "    \"\"\"determines the sign (+/-) of a numeric input\"\"\"\n",
    "    if x > 0:\n",
    "        return 'Positive'\n",
    "    \n",
    "    elif x < 0:\n",
    "        return 'Negative'\n",
    "    \n",
    "    elif x = 0:\n",
    "        return 'Neither positive nor negative'"
   ]
  },
  {
   "cell_type": "markdown",
   "metadata": {},
   "source": [
    "#### Discussion Question: \n",
    "\n",
    "Examine the following code and its `for` loop. What changes should be made to the code? I see three!"
   ]
  },
  {
   "cell_type": "markdown",
   "metadata": {},
   "source": [
    "##### **Task**: compute a running total of the integers 1 through $k$. In this case, $k$ is 5.\n",
    "\n",
    "- So, the running `total` should be $1+2+3+4+5$!"
   ]
  },
  {
   "cell_type": "code",
   "execution_count": null,
   "metadata": {},
   "outputs": [],
   "source": [
    "k = 5\n",
    "\n",
    "for i in k:\n",
    "    total = 0\n",
    "    i + total"
   ]
  },
  {
   "cell_type": "code",
   "execution_count": null,
   "metadata": {},
   "outputs": [],
   "source": [
    "total"
   ]
  }
 ],
 "metadata": {
  "kernelspec": {
   "display_name": "Python 3 (ipykernel)",
   "language": "python",
   "name": "python3"
  },
  "language_info": {
   "codemirror_mode": {
    "name": "ipython",
    "version": 3
   },
   "file_extension": ".py",
   "mimetype": "text/x-python",
   "name": "python",
   "nbconvert_exporter": "python",
   "pygments_lexer": "ipython3",
   "version": "3.12.4"
  }
 },
 "nbformat": 4,
 "nbformat_minor": 4
}
