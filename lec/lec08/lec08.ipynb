{
 "cells": [
  {
   "cell_type": "code",
   "execution_count": 2,
   "id": "bd14fe40-1675-4a10-b600-3815e2c3d118",
   "metadata": {},
   "outputs": [],
   "source": [
    "from datascience import *\n",
    "import numpy as np\n",
    "import warnings\n",
    "warnings.filterwarnings(\"ignore\")\n",
    "\n",
    "%matplotlib inline\n",
    "import matplotlib.pyplot as plots\n",
    "plots.style.use('fivethirtyeight')\n",
    "plots.rcParams[\"patch.force_edgecolor\"] = True"
   ]
  },
  {
   "cell_type": "markdown",
   "id": "6d62098d-ff44-43b5-9623-05f9d7279026",
   "metadata": {},
   "source": [
    "## New material"
   ]
  },
  {
   "cell_type": "markdown",
   "id": "d28c2f35-8591-491e-bb90-44eba0365c98",
   "metadata": {},
   "source": [
    "### Every variable has a distribution"
   ]
  },
  {
   "cell_type": "code",
   "execution_count": 3,
   "id": "3767385b-a853-43dc-b158-cf3208541b9a",
   "metadata": {},
   "outputs": [
    {
     "data": {
      "text/html": [
       "<table border=\"1\" class=\"dataframe\">\n",
       "    <thead>\n",
       "        <tr>\n",
       "            <th>Title</th> <th>Studio</th> <th>Gross</th> <th>Gross (Adjusted)</th> <th>Year</th>\n",
       "        </tr>\n",
       "    </thead>\n",
       "    <tbody>\n",
       "        <tr>\n",
       "            <td>Gone with the Wind         </td> <td>MGM      </td> <td>198676459</td> <td>1796176700      </td> <td>1939</td>\n",
       "        </tr>\n",
       "        <tr>\n",
       "            <td>Star Wars                  </td> <td>Fox      </td> <td>460998007</td> <td>1583483200      </td> <td>1977</td>\n",
       "        </tr>\n",
       "        <tr>\n",
       "            <td>The Sound of Music         </td> <td>Fox      </td> <td>158671368</td> <td>1266072700      </td> <td>1965</td>\n",
       "        </tr>\n",
       "        <tr>\n",
       "            <td>E.T.: The Extra-Terrestrial</td> <td>Universal</td> <td>435110554</td> <td>1261085000      </td> <td>1982</td>\n",
       "        </tr>\n",
       "        <tr>\n",
       "            <td>Titanic                    </td> <td>Paramount</td> <td>658672302</td> <td>1204368000      </td> <td>1997</td>\n",
       "        </tr>\n",
       "        <tr>\n",
       "            <td>The Ten Commandments       </td> <td>Paramount</td> <td>65500000 </td> <td>1164590000      </td> <td>1956</td>\n",
       "        </tr>\n",
       "    </tbody>\n",
       "</table>\n",
       "<p>... (194 rows omitted)</p>"
      ],
      "text/plain": [
       "<IPython.core.display.HTML object>"
      ]
     },
     "metadata": {},
     "output_type": "display_data"
    }
   ],
   "source": [
    "top_movies = Table.read_table('top_movies_2017.csv')\n",
    "top_movies.show(6)"
   ]
  },
  {
   "cell_type": "code",
   "execution_count": 4,
   "id": "e62cfa1a-2d4a-4135-b66e-e6af2b23ab0f",
   "metadata": {},
   "outputs": [],
   "source": [
    "studio_distribution = top_movies.group('Studio')"
   ]
  },
  {
   "cell_type": "code",
   "execution_count": 5,
   "id": "a807979e-5701-48c3-965f-7bb864b77496",
   "metadata": {},
   "outputs": [
    {
     "data": {
      "text/html": [
       "<table border=\"1\" class=\"dataframe\">\n",
       "    <thead>\n",
       "        <tr>\n",
       "            <th>Studio</th> <th>count</th>\n",
       "        </tr>\n",
       "    </thead>\n",
       "    <tbody>\n",
       "        <tr>\n",
       "            <td>AVCO       </td> <td>1    </td>\n",
       "        </tr>\n",
       "        <tr>\n",
       "            <td>Buena Vista</td> <td>35   </td>\n",
       "        </tr>\n",
       "        <tr>\n",
       "            <td>Columbia   </td> <td>9    </td>\n",
       "        </tr>\n",
       "        <tr>\n",
       "            <td>Disney     </td> <td>11   </td>\n",
       "        </tr>\n",
       "        <tr>\n",
       "            <td>Dreamworks </td> <td>3    </td>\n",
       "        </tr>\n",
       "        <tr>\n",
       "            <td>Fox        </td> <td>24   </td>\n",
       "        </tr>\n",
       "    </tbody>\n",
       "</table>\n",
       "<p>... (17 rows omitted)</p>"
      ],
      "text/plain": [
       "<IPython.core.display.HTML object>"
      ]
     },
     "metadata": {},
     "output_type": "display_data"
    }
   ],
   "source": [
    "studio_distribution.show(6)"
   ]
  },
  {
   "cell_type": "markdown",
   "id": "7e24ab91-b28f-41c8-9ed1-1eaefc43610a",
   "metadata": {},
   "source": [
    "#### **Task (Review):** Visualize the distribution of studios responsible for the highest grossing movies as of 2017."
   ]
  },
  {
   "cell_type": "code",
   "execution_count": null,
   "id": "8f627e6d-0b9a-4e3f-8630-c42e57308f04",
   "metadata": {},
   "outputs": [],
   "source": [
    "studio_distribution.barh('Studio')"
   ]
  },
  {
   "cell_type": "code",
   "execution_count": null,
   "id": "15cbe2cf-3460-4693-b209-47152b1e4abc",
   "metadata": {},
   "outputs": [],
   "source": [
    "studio_distribution.sort('count', descending=True).barh('Studio')\n",
    "print(\"Five studios are largely responsible for the highest grossing movies\")"
   ]
  },
  {
   "cell_type": "markdown",
   "id": "81941bd1-e61e-4784-b0ff-33ee8dcd0250",
   "metadata": {},
   "source": [
    "**STOP**"
   ]
  },
  {
   "cell_type": "markdown",
   "id": "01570b82-818e-4755-89e0-264df0fb9735",
   "metadata": {},
   "source": [
    "### Use binning for numerical distributions"
   ]
  },
  {
   "cell_type": "markdown",
   "id": "d95a2377-9102-4c91-a94f-804fe1d66a4b",
   "metadata": {},
   "source": [
    "In slides."
   ]
  },
  {
   "cell_type": "markdown",
   "id": "06e9691c-0998-4cc8-8b2e-77025271f2f2",
   "metadata": {},
   "source": [
    "### Introducing the histogram and the area principle"
   ]
  },
  {
   "cell_type": "markdown",
   "id": "fc115f25-7244-4dad-8c8b-f094cb5fd6f4",
   "metadata": {},
   "source": [
    "#### **Task**: Visualize the distribution of how long the highest grossing movies as of 2017 have been out (in years)."
   ]
  },
  {
   "cell_type": "code",
   "execution_count": null,
   "id": "8b303b83-8625-45d5-82e6-c5076440efde",
   "metadata": {},
   "outputs": [],
   "source": [
    "ages = 2025 - top_movies.column('Year')\n",
    "ages"
   ]
  },
  {
   "cell_type": "code",
   "execution_count": null,
   "id": "0d65d141-b44e-4e3a-9e03-b1f511d80f82",
   "metadata": {},
   "outputs": [],
   "source": [
    "top_movies = top_movies.with_column('Age', ages)\n",
    "top_movies"
   ]
  },
  {
   "cell_type": "code",
   "execution_count": null,
   "id": "4ff7b3d7-c92b-4607-a618-f933ba8e51fc",
   "metadata": {},
   "outputs": [],
   "source": [
    "top_movies.select('Title', 'Age').show(6)"
   ]
  },
  {
   "cell_type": "code",
   "execution_count": null,
   "id": "537495ee-34e2-49be-a435-94acb825bc69",
   "metadata": {},
   "outputs": [],
   "source": [
    "min(ages), max(ages)"
   ]
  },
  {
   "cell_type": "markdown",
   "id": "97679f38-a9d2-4bce-8a76-056153ecc595",
   "metadata": {},
   "source": [
    "If you want to make equally sized bins, `np.arange()` is a great tool to help you."
   ]
  },
  {
   "cell_type": "code",
   "execution_count": null,
   "id": "514046e3-2b18-4cad-a23f-a374bdee3772",
   "metadata": {},
   "outputs": [],
   "source": [
    "top_movies.hist('Age', bins = np.arange(0, 110, 10), unit = 'Year')"
   ]
  },
  {
   "cell_type": "markdown",
   "id": "7d507ea2-59cd-4d02-81e7-da7ff303dc1e",
   "metadata": {},
   "source": [
    "Otherwise, you can pick your own bins. These are just bins that we picked out.\n"
   ]
  },
  {
   "cell_type": "code",
   "execution_count": null,
   "id": "4439de01-50cd-4364-b232-636abb82bb45",
   "metadata": {},
   "outputs": [],
   "source": [
    "my_bins = make_array(0, 5, 10, 15, 25, 40, 65, 101)"
   ]
  },
  {
   "cell_type": "markdown",
   "id": "59217f81-6506-4211-9622-609c3b86edcb",
   "metadata": {},
   "source": [
    "You may then use the `bin` table method to make a table having your bins, along with the number of observations within each."
   ]
  },
  {
   "cell_type": "code",
   "execution_count": null,
   "id": "18fbfe8f-f468-422d-8c53-5483443ed8a5",
   "metadata": {},
   "outputs": [],
   "source": [
    "binned_data = top_movies.bin('Age', bins = my_bins)\n",
    "binned_data"
   ]
  },
  {
   "cell_type": "markdown",
   "id": "e872d3f5-3e31-40f6-a744-199c84b067af",
   "metadata": {},
   "source": [
    "**Note:** The last \"bin\" does not include any observations!!"
   ]
  },
  {
   "cell_type": "markdown",
   "id": "7961a0f4-71b6-49df-b078-3898751f7faa",
   "metadata": {},
   "source": [
    "##### Now, plot the histogram!"
   ]
  },
  {
   "cell_type": "code",
   "execution_count": null,
   "id": "54c02a32-db42-445c-a245-de759f57f70f",
   "metadata": {},
   "outputs": [],
   "source": [
    "top_movies.hist('Age', bins = my_bins, unit = 'Year')"
   ]
  },
  {
   "cell_type": "markdown",
   "id": "54af4d51-54bb-4022-a76c-aeaec1a2293b",
   "metadata": {},
   "source": [
    "**STOP**"
   ]
  },
  {
   "cell_type": "markdown",
   "id": "43c12e6b-ceb3-4c57-9196-84baee6e725e",
   "metadata": {},
   "source": [
    "#### **Discussion Question (1 min)**: Compare the bins $[25, 40)$ and $[40, 65)$. \n",
    "\n",
    "- Which one has more movies?\n",
    "- Which one is more crowded?"
   ]
  },
  {
   "cell_type": "code",
   "execution_count": 6,
   "id": "340ddca3-54c7-488d-9cae-55da6a4c41a1",
   "metadata": {},
   "outputs": [
    {
     "ename": "NameError",
     "evalue": "name 'my_bins' is not defined",
     "output_type": "error",
     "traceback": [
      "\u001b[0;31m---------------------------------------------------------------------------\u001b[0m",
      "\u001b[0;31mNameError\u001b[0m                                 Traceback (most recent call last)",
      "Cell \u001b[0;32mIn[6], line 1\u001b[0m\n\u001b[0;32m----> 1\u001b[0m top_movies\u001b[38;5;241m.\u001b[39mhist(\u001b[38;5;124m'\u001b[39m\u001b[38;5;124mAge\u001b[39m\u001b[38;5;124m'\u001b[39m, bins \u001b[38;5;241m=\u001b[39m my_bins, unit \u001b[38;5;241m=\u001b[39m \u001b[38;5;124m'\u001b[39m\u001b[38;5;124mYear\u001b[39m\u001b[38;5;124m'\u001b[39m)\n",
      "\u001b[0;31mNameError\u001b[0m: name 'my_bins' is not defined"
     ]
    }
   ],
   "source": [
    "top_movies.hist('Age', bins = my_bins, unit = 'Year')"
   ]
  },
  {
   "cell_type": "markdown",
   "id": "8f0e96a9-28a1-4d0f-8282-d843f614586e",
   "metadata": {},
   "source": [
    "## Review + challenge tasks\n",
    "\n",
    "- **(Tables)** - to be completed on https://pollev.com/jeremysanchez\n",
    "\n",
    "- **(Bar chart variants) from yesterday** I would not worry about the technical details of the code until next week! Right now, I just want you to see the different styles of bar chart that we might use."
   ]
  },
  {
   "cell_type": "code",
   "execution_count": null,
   "id": "365331ac-e9a8-4b67-8f92-2d264b268462",
   "metadata": {},
   "outputs": [],
   "source": [
    "cones = Table.read_table('cones.csv')\n",
    "cones"
   ]
  },
  {
   "cell_type": "markdown",
   "id": "fdeac89a-1bd2-4a43-83bc-e826d93ae8cd",
   "metadata": {
    "jp-MarkdownHeadingCollapsed": true
   },
   "source": [
    "### Challenge tasks"
   ]
  },
  {
   "cell_type": "markdown",
   "id": "37040a3d-e718-4654-a733-83c164f90ff8",
   "metadata": {},
   "source": [
    "#### **Task**: Find the height of the $[40,65)$ bin in the histogram above."
   ]
  },
  {
   "cell_type": "markdown",
   "id": "36338332-284e-4767-b96c-bb6d4f40d5ca",
   "metadata": {},
   "source": [
    "$$\\text{height} = \\frac{\\text{percent}}{\\text{width}}$$"
   ]
  },
  {
   "cell_type": "markdown",
   "id": "82b37ead-98dd-4129-8490-702f1305208a",
   "metadata": {},
   "source": [
    "Add a column containing what percent of movies are in each bin (the **area** of each bin)"
   ]
  },
  {
   "cell_type": "code",
   "execution_count": null,
   "id": "102daaa4-cbc6-4867-9fbf-c5f936a87c3b",
   "metadata": {},
   "outputs": [],
   "source": [
    "binned_data = binned_data.with_column('Percent', 100*binned_data.column('Age count')/top_movies.num_rows)"
   ]
  },
  {
   "cell_type": "code",
   "execution_count": null,
   "id": "6c5e39ab-3c2e-4245-8348-fb2e61a7ebb0",
   "metadata": {},
   "outputs": [],
   "source": [
    "binned_data.show()"
   ]
  },
  {
   "cell_type": "code",
   "execution_count": null,
   "id": "272c2c69-5c11-4dc6-a3c9-4d14a27b6b28",
   "metadata": {},
   "outputs": [],
   "source": [
    "percent = binned_data.where('bin', 40).column('Percent').item(0)"
   ]
  },
  {
   "cell_type": "code",
   "execution_count": null,
   "id": "60b5258a-be17-48c5-aa0f-eecc2d1f9ebd",
   "metadata": {},
   "outputs": [],
   "source": [
    "width = 65-40\n",
    "height = percent / width"
   ]
  },
  {
   "cell_type": "code",
   "execution_count": null,
   "id": "f929f09c-dc83-481c-93fa-2f66591cf96f",
   "metadata": {},
   "outputs": [],
   "source": [
    "height"
   ]
  },
  {
   "cell_type": "markdown",
   "id": "396b9009-1109-45da-a290-93e30963ec51",
   "metadata": {},
   "source": [
    "#### **Task**: Find the heights of the (rest of the) bins."
   ]
  },
  {
   "cell_type": "markdown",
   "id": "0eaba517-2c26-4213-b106-0ab1f2a9acec",
   "metadata": {},
   "source": [
    "$$\\text{height} = \\frac{\\text{percent}}{\\text{width}}$$"
   ]
  },
  {
   "cell_type": "markdown",
   "id": "4e9ac273-3912-4d10-8ad0-bac133ef8398",
   "metadata": {},
   "source": [
    "Remember that the last row in the table does not represent a bin!"
   ]
  },
  {
   "cell_type": "code",
   "execution_count": null,
   "id": "6b413885-39d0-4dc7-8c7d-bfd0a2f51ede",
   "metadata": {},
   "outputs": [],
   "source": [
    "height_table = binned_data.take(np.arange(binned_data.num_rows - 1))\n",
    "height_table "
   ]
  },
  {
   "cell_type": "markdown",
   "id": "61641eba-6114-4b6a-9b23-448d12574584",
   "metadata": {},
   "source": [
    "Remember `np.diff`?"
   ]
  },
  {
   "cell_type": "code",
   "execution_count": null,
   "id": "779fd557-6308-42be-aed5-2eaf2bda5329",
   "metadata": {},
   "outputs": [],
   "source": [
    "bin_widths = np.diff(binned_data.column('bin'))"
   ]
  },
  {
   "cell_type": "code",
   "execution_count": null,
   "id": "3c36b022-8f57-4399-891a-95ac2f214172",
   "metadata": {},
   "outputs": [],
   "source": [
    "bin_widths"
   ]
  },
  {
   "cell_type": "code",
   "execution_count": null,
   "id": "dac9e89e-d92c-4942-8004-4fed1378bb12",
   "metadata": {},
   "outputs": [],
   "source": [
    "height_table = height_table.with_column('Width', bin_widths)\n",
    "height_table"
   ]
  },
  {
   "cell_type": "code",
   "execution_count": null,
   "id": "fe39a09e-4309-4c41-a5b0-73f0b4f2a9a6",
   "metadata": {},
   "outputs": [],
   "source": [
    "height_table = height_table.with_column('Height',\n",
    "                                        height_table.column('Percent')/height_table.column('Width'))"
   ]
  },
  {
   "cell_type": "code",
   "execution_count": null,
   "id": "840137d5-6c87-4a98-9fe8-94e5f7c92854",
   "metadata": {},
   "outputs": [],
   "source": [
    "height_table"
   ]
  },
  {
   "cell_type": "markdown",
   "id": "fd52024c-59ae-4dd3-a067-9fd3a9c5fc20",
   "metadata": {},
   "source": [
    "To check our work one last time, let's see if the numbers in the last column match the heights of the histogram:"
   ]
  },
  {
   "cell_type": "code",
   "execution_count": null,
   "id": "7030a73a-ce07-493b-809b-cf6d64efb631",
   "metadata": {},
   "outputs": [],
   "source": [
    "top_movies.hist('Age', bins = my_bins, unit = 'Year')"
   ]
  },
  {
   "cell_type": "markdown",
   "id": "673cdbe9-d0a4-4345-9b6c-46dbbd3e4011",
   "metadata": {},
   "source": [
    "### Bar chart variant: one categorical attribute"
   ]
  },
  {
   "cell_type": "code",
   "execution_count": null,
   "id": "adf3ccf1-8163-4ea9-ab1b-5a2acd0b0fb8",
   "metadata": {},
   "outputs": [],
   "source": [
    "flavor_table = cones.group('Flavor')\n",
    "flavor_table"
   ]
  },
  {
   "cell_type": "code",
   "execution_count": null,
   "id": "955c609b-3646-481d-b981-1825a7802be7",
   "metadata": {},
   "outputs": [],
   "source": [
    "flavor_table.barh('Flavor')"
   ]
  },
  {
   "cell_type": "markdown",
   "id": "c3c2995b-27cb-4bc2-8e96-cc9b5bd547af",
   "metadata": {},
   "source": [
    "### Bar chart variant: one categorical attribute, one numerical attribute"
   ]
  },
  {
   "cell_type": "code",
   "execution_count": null,
   "id": "5597f400-c41b-4d07-bb55-cbdc13717801",
   "metadata": {},
   "outputs": [],
   "source": [
    "cone_average_price_table = cones.drop('Color').group('Flavor', np.average)\n",
    "cone_average_price_table"
   ]
  },
  {
   "cell_type": "code",
   "execution_count": null,
   "id": "4a314033-20e3-430e-8dff-41ef35e12292",
   "metadata": {},
   "outputs": [],
   "source": [
    "cone_average_price_table.barh('Flavor')"
   ]
  },
  {
   "cell_type": "markdown",
   "id": "61d986de-b8a3-461c-bd48-90296beb21c2",
   "metadata": {},
   "source": [
    "### Bar chart variant: two categorical attributes"
   ]
  },
  {
   "cell_type": "code",
   "execution_count": null,
   "id": "e607b69d-2d03-4fe1-b6b3-37f0941be99c",
   "metadata": {},
   "outputs": [],
   "source": [
    "cones_pivot_table = cones.pivot('Flavor','Color')\n",
    "cones_pivot_table"
   ]
  },
  {
   "cell_type": "code",
   "execution_count": null,
   "id": "2fd8494f-b343-4418-bf5d-6fcbc343930f",
   "metadata": {},
   "outputs": [],
   "source": [
    "cones_pivot_table.barh('Color')"
   ]
  }
 ],
 "metadata": {
  "kernelspec": {
   "display_name": "Python 3 (ipykernel)",
   "language": "python",
   "name": "python3"
  },
  "language_info": {
   "codemirror_mode": {
    "name": "ipython",
    "version": 3
   },
   "file_extension": ".py",
   "mimetype": "text/x-python",
   "name": "python",
   "nbconvert_exporter": "python",
   "pygments_lexer": "ipython3",
   "version": "3.12.4"
  }
 },
 "nbformat": 4,
 "nbformat_minor": 5
}
