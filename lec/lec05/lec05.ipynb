{
 "cells": [
  {
   "cell_type": "code",
   "execution_count": 2,
   "id": "bee93afe-448d-4177-b1b6-26b294e6cf56",
   "metadata": {},
   "outputs": [],
   "source": [
    "from datascience import *\n",
    "import numpy as np"
   ]
  },
  {
   "cell_type": "markdown",
   "id": "9feb475b-c700-444b-8afa-a4a41e8c5f89",
   "metadata": {},
   "source": [
    "## New material"
   ]
  },
  {
   "cell_type": "markdown",
   "id": "f8194f71-ac67-4a84-9d9d-96f91af8fd06",
   "metadata": {},
   "source": [
    "### Two ways to create tables"
   ]
  },
  {
   "cell_type": "markdown",
   "id": "4577499f-3164-4358-b2a9-6d717bd6e8da",
   "metadata": {},
   "source": [
    "**Way 1:** Reading from a file"
   ]
  },
  {
   "cell_type": "code",
   "execution_count": null,
   "id": "c828c8d5-3bfa-4e4e-ab89-76ceca83f242",
   "metadata": {},
   "outputs": [],
   "source": [
    "nba = Table.read_table('nba_salaries.csv')\n",
    "nba.show(6)"
   ]
  },
  {
   "cell_type": "markdown",
   "id": "675f9a70-c23f-49c6-8dd4-bc543ec13edf",
   "metadata": {},
   "source": [
    "**Way 2:** Creating from scratch"
   ]
  },
  {
   "cell_type": "code",
   "execution_count": null,
   "id": "817105f4-3736-42ef-8cf9-776a7cc29f7b",
   "metadata": {},
   "outputs": [],
   "source": [
    "streets = make_array('Bancroft', 'Durant', 'Channing', 'Haste')\n",
    "streets"
   ]
  },
  {
   "cell_type": "code",
   "execution_count": null,
   "id": "d893396f-20d4-47b7-814f-ea91100543f6",
   "metadata": {},
   "outputs": [],
   "source": [
    "Table()"
   ]
  },
  {
   "cell_type": "code",
   "execution_count": null,
   "id": "4b8cf9df-f60c-4e8e-9904-eedfa283caac",
   "metadata": {},
   "outputs": [],
   "source": [
    "southside = Table().with_column('Streets', streets)\n",
    "southside"
   ]
  },
  {
   "cell_type": "code",
   "execution_count": null,
   "id": "afa1ac30-20ac-47b8-a478-386bc9feb73c",
   "metadata": {},
   "outputs": [],
   "source": [
    "southside.with_column('Blocks from campus', np.arange(4))"
   ]
  },
  {
   "cell_type": "code",
   "execution_count": null,
   "id": "7852e483-7906-4c07-8599-aa1359b6b0b9",
   "metadata": {},
   "outputs": [],
   "source": [
    "Table().with_columns(\n",
    "    'Streets', streets,\n",
    "    'Blocks from campus', np.arange(4)\n",
    ")"
   ]
  },
  {
   "cell_type": "markdown",
   "id": "90c55df6-bf02-4a79-85c7-b02987b5735a",
   "metadata": {},
   "source": [
    "### W.E.B. DuBois was a data scientist!"
   ]
  },
  {
   "cell_type": "code",
   "execution_count": 4,
   "id": "c4120695-d49e-4ba8-89d4-9197fada6eea",
   "metadata": {},
   "outputs": [
    {
     "data": {
      "text/html": [
       "<table border=\"1\" class=\"dataframe\">\n",
       "    <thead>\n",
       "        <tr>\n",
       "            <th>CLASS</th> <th>ACTUAL AVERAGE</th> <th>RENT</th> <th>FOOD</th> <th>CLOTHES</th> <th>TAXES</th> <th>OTHER</th> <th>STATUS</th>\n",
       "        </tr>\n",
       "    </thead>\n",
       "    <tbody>\n",
       "        <tr>\n",
       "            <td>100-200      </td> <td>139.1         </td> <td>0.19</td> <td>0.43</td> <td>0.28   </td> <td>0.001</td> <td>0.099</td> <td>POOR       </td>\n",
       "        </tr>\n",
       "        <tr>\n",
       "            <td>200-300      </td> <td>249.45        </td> <td>0.22</td> <td>0.47</td> <td>0.23   </td> <td>0.04 </td> <td>0.04 </td> <td>POOR       </td>\n",
       "        </tr>\n",
       "        <tr>\n",
       "            <td>300-400      </td> <td>335.66        </td> <td>0.23</td> <td>0.43</td> <td>0.18   </td> <td>0.045</td> <td>0.115</td> <td>FAIR       </td>\n",
       "        </tr>\n",
       "        <tr>\n",
       "            <td>400-500      </td> <td>433.82        </td> <td>0.18</td> <td>0.37</td> <td>0.15   </td> <td>0.055</td> <td>0.245</td> <td>FAIR       </td>\n",
       "        </tr>\n",
       "        <tr>\n",
       "            <td>500-750      </td> <td>547           </td> <td>0.13</td> <td>0.31</td> <td>0.17   </td> <td>0.05 </td> <td>0.34 </td> <td>COMFORTABLE</td>\n",
       "        </tr>\n",
       "        <tr>\n",
       "            <td>750-1000     </td> <td>880           </td> <td>0   </td> <td>0.37</td> <td>0.19   </td> <td>0.08 </td> <td>0.36 </td> <td>COMFORTABLE</td>\n",
       "        </tr>\n",
       "        <tr>\n",
       "            <td>1000 and over</td> <td>1125          </td> <td>0   </td> <td>0.29</td> <td>0.16   </td> <td>0.045</td> <td>0.505</td> <td>WELL-TO-DO </td>\n",
       "        </tr>\n",
       "    </tbody>\n",
       "</table>"
      ],
      "text/plain": [
       "CLASS         | ACTUAL AVERAGE | RENT | FOOD | CLOTHES | TAXES | OTHER | STATUS\n",
       "100-200       | 139.1          | 0.19 | 0.43 | 0.28    | 0.001 | 0.099 | POOR\n",
       "200-300       | 249.45         | 0.22 | 0.47 | 0.23    | 0.04  | 0.04  | POOR\n",
       "300-400       | 335.66         | 0.23 | 0.43 | 0.18    | 0.045 | 0.115 | FAIR\n",
       "400-500       | 433.82         | 0.18 | 0.37 | 0.15    | 0.055 | 0.245 | FAIR\n",
       "500-750       | 547            | 0.13 | 0.31 | 0.17    | 0.05  | 0.34  | COMFORTABLE\n",
       "750-1000      | 880            | 0    | 0.37 | 0.19    | 0.08  | 0.36  | COMFORTABLE\n",
       "1000 and over | 1125           | 0    | 0.29 | 0.16    | 0.045 | 0.505 | WELL-TO-DO"
      ]
     },
     "execution_count": 4,
     "metadata": {},
     "output_type": "execute_result"
    }
   ],
   "source": [
    "du_bois = Table.read_table('du_bois.csv')\n",
    "du_bois"
   ]
  },
  {
   "cell_type": "markdown",
   "id": "243fab88-ee76-48a8-b4a1-b9fc910edcc9",
   "metadata": {},
   "source": [
    "**Task**: Find the number of rows and the number of columns in this table."
   ]
  },
  {
   "cell_type": "code",
   "execution_count": null,
   "id": "6caf8bcd-1b4d-4048-89c9-d5d05a02a9c7",
   "metadata": {},
   "outputs": [],
   "source": []
  },
  {
   "cell_type": "markdown",
   "id": "1bfadcf9-776d-4084-91a1-40d4271696f2",
   "metadata": {},
   "source": [
    "**Task:** Find all of the variables recorded on each \"individual\" in this table."
   ]
  },
  {
   "cell_type": "code",
   "execution_count": null,
   "id": "b046b32d-19e6-49b7-b87d-0856dd9484c0",
   "metadata": {},
   "outputs": [],
   "source": []
  },
  {
   "cell_type": "markdown",
   "id": "3057510a-250c-4b24-a1cf-550636b2121a",
   "metadata": {},
   "source": [
    "**Task:** Extract just the information (row(s)) of the families with the highest earning income bracket on average, circa 1900. \n",
    "- There are multiple correct ways to do this! See if you can find more than one."
   ]
  },
  {
   "cell_type": "markdown",
   "id": "067df7fc-8d41-461a-af40-92e92db5b66d",
   "metadata": {},
   "source": [
    "Way 1:"
   ]
  },
  {
   "cell_type": "code",
   "execution_count": null,
   "id": "1e1d09ab-93d8-466e-9bd9-a1dd33adf028",
   "metadata": {},
   "outputs": [],
   "source": []
  },
  {
   "cell_type": "markdown",
   "id": "1ef1af03-e09e-42ad-9f5b-8a6624a135c3",
   "metadata": {},
   "source": [
    "Way 2:"
   ]
  },
  {
   "cell_type": "code",
   "execution_count": null,
   "id": "0695162e-bfb8-45cd-a942-8bbf168dd93f",
   "metadata": {},
   "outputs": [],
   "source": []
  },
  {
   "cell_type": "markdown",
   "id": "2a2b6af6-f150-4907-8d6c-3d7b0bad8325",
   "metadata": {},
   "source": [
    "Discussion [1 min]"
   ]
  },
  {
   "cell_type": "markdown",
   "id": "58e1c515-74ca-4deb-9619-014be48c3659",
   "metadata": {},
   "source": [
    "**Challenge Task pt 1:** Based on the relevant variables in the table, estimate the amount of money each that each income class of Black Americans spent on food, circa 1900."
   ]
  },
  {
   "cell_type": "code",
   "execution_count": null,
   "id": "51e8d149-96dd-4819-ae1c-b4d3b3b0da2b",
   "metadata": {},
   "outputs": [],
   "source": []
  },
  {
   "cell_type": "markdown",
   "id": "a8d3a668-2872-4fad-8ae3-9e785ff9a09f",
   "metadata": {},
   "source": [
    "**Challenge Task pt 2:** Add these estimates to the `du_bois` table as a new column."
   ]
  },
  {
   "cell_type": "code",
   "execution_count": null,
   "id": "8d59ddb0-2a88-442c-9a0d-1819f256fc04",
   "metadata": {},
   "outputs": [],
   "source": []
  },
  {
   "cell_type": "markdown",
   "id": "17f13f13-81eb-42bd-bdcd-24f1c9d035d2",
   "metadata": {},
   "source": [
    "____"
   ]
  },
  {
   "cell_type": "code",
   "execution_count": null,
   "id": "fd9d9730-854e-43e7-ab59-ff9b6233af7a",
   "metadata": {},
   "outputs": [],
   "source": []
  },
  {
   "cell_type": "markdown",
   "id": "5a9be91d-cb40-4530-8db1-1813cea28d90",
   "metadata": {},
   "source": [
    "**STOP**"
   ]
  },
  {
   "cell_type": "markdown",
   "id": "eb3a3354-8bb4-4bda-96bf-1969359fcc5a",
   "metadata": {
    "jp-MarkdownHeadingCollapsed": true
   },
   "source": [
    "### Back to the NBA example!"
   ]
  },
  {
   "cell_type": "markdown",
   "id": "3f930df3-c64e-438e-af91-0f42f1077ba7",
   "metadata": {},
   "source": [
    "**Task:**\n",
    "- Extract the rows in the `nba` table that correspond to Stephen Curry from the years 2016, 2017, ..., 2020. \n",
    "- Save the table into the name `recent_curry`."
   ]
  },
  {
   "cell_type": "code",
   "execution_count": null,
   "id": "d34a96a1-6d12-4f6d-aba7-cb1a60a0648b",
   "metadata": {},
   "outputs": [],
   "source": []
  },
  {
   "cell_type": "code",
   "execution_count": null,
   "id": "562661d3-0c0f-4e93-b4cb-9a1d0fa9f16b",
   "metadata": {},
   "outputs": [],
   "source": []
  },
  {
   "cell_type": "markdown",
   "id": "e1023d8e-ca1e-4a97-b288-6dcf4156ad30",
   "metadata": {},
   "source": [
    "**Discussion Question:** \n",
    "- Which of the following two lines of code correctly calculates the average salary of Steph Curry from 2016-2020?\n",
    "- Use the [Python reference sheet](https://www.data8.org/sp25/reference/) to help you answer!"
   ]
  },
  {
   "cell_type": "code",
   "execution_count": null,
   "id": "629223ba-cf05-464e-ab82-1b6f66badd45",
   "metadata": {},
   "outputs": [],
   "source": [
    "np.average(recent_curry.select('salary'))"
   ]
  },
  {
   "cell_type": "code",
   "execution_count": null,
   "id": "467c9492-7261-46e6-abb6-dec51fce2bae",
   "metadata": {},
   "outputs": [],
   "source": [
    "np.average(recent_curry.column('salary'))"
   ]
  },
  {
   "cell_type": "markdown",
   "id": "5dfd45c1-7429-493b-a83f-30197c2a7640",
   "metadata": {},
   "source": [
    "## Review"
   ]
  },
  {
   "cell_type": "markdown",
   "id": "8064204a-ff21-4196-998f-6446ac46c151",
   "metadata": {},
   "source": [
    "**Discussion Question 1:** Question 1, Final, Fall 2019.\n",
    "- What will the following Python expression evaluate to?"
   ]
  },
  {
   "cell_type": "code",
   "execution_count": null,
   "id": "12fa9794-5274-4535-8368-0344544ff84c",
   "metadata": {},
   "outputs": [],
   "source": [
    "make_array(1,2,3) * 2"
   ]
  },
  {
   "cell_type": "markdown",
   "id": "0658802d-5533-4580-a50e-502190253c91",
   "metadata": {},
   "source": [
    "**Discussion Question 2:**    \n",
    "- What will the following Python expression evaluate to?\n"
   ]
  },
  {
   "cell_type": "code",
   "execution_count": null,
   "id": "b2e7d6bd-6111-420e-9949-3b756efd9cb2",
   "metadata": {},
   "outputs": [],
   "source": [
    "make_array(1,2,3) + np.arange(start=1, stop=4)"
   ]
  },
  {
   "cell_type": "markdown",
   "id": "a343bbbb-31b7-4e6b-98c5-be14c71a56b0",
   "metadata": {},
   "source": [
    "____"
   ]
  }
 ],
 "metadata": {
  "kernelspec": {
   "display_name": "Python 3 (ipykernel)",
   "language": "python",
   "name": "python3"
  },
  "language_info": {
   "codemirror_mode": {
    "name": "ipython",
    "version": 3
   },
   "file_extension": ".py",
   "mimetype": "text/x-python",
   "name": "python",
   "nbconvert_exporter": "python",
   "pygments_lexer": "ipython3",
   "version": "3.12.4"
  }
 },
 "nbformat": 4,
 "nbformat_minor": 5
}
