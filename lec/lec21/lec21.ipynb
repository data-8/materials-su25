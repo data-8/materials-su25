{
 "cells": [
  {
   "cell_type": "code",
   "execution_count": null,
   "id": "7ea79d99-a356-497f-b96c-8d05909d4536",
   "metadata": {},
   "outputs": [],
   "source": [
    "from datascience import *\n",
    "import numpy as np\n",
    "\n",
    "%matplotlib inline\n",
    "import matplotlib.pyplot as plots\n",
    "plots.style.use('fivethirtyeight')\n",
    "\n",
    "import warnings\n",
    "warnings.simplefilter(\"ignore\")"
   ]
  },
  {
   "cell_type": "markdown",
   "id": "2c0ab716-85d6-40ae-be29-447b197aee45",
   "metadata": {},
   "source": [
    "## New material"
   ]
  },
  {
   "cell_type": "markdown",
   "id": "74dd0c09-1de0-4e05-be45-b7181589daea",
   "metadata": {},
   "source": [
    "From your text:\n",
    "\n",
    "> [SF OpenData](https://datasf.org/opendata/) is a website where the City and County of San Francisco make some of their data publicly available. One of the data sets contains compensation data for employees of the City. These include medical professionals at City-run hospitals, police officers, fire fighters, transportation workers, elected officials, and all other employees of the City."
   ]
  },
  {
   "cell_type": "code",
   "execution_count": null,
   "id": "15781184-4e06-4562-a90d-6ef2cbaa055c",
   "metadata": {},
   "outputs": [],
   "source": [
    "population = Table.read_table('san_francisco_2019.csv') "
   ]
  },
  {
   "cell_type": "code",
   "execution_count": null,
   "id": "50ed31ca-0f13-4ade-bdbd-1b295a05df8b",
   "metadata": {},
   "outputs": [],
   "source": [
    "population.sample(5, with_replacement = False)"
   ]
  },
  {
   "cell_type": "code",
   "execution_count": null,
   "id": "ee0ebf07-df26-4e27-9ac2-82b627073aff",
   "metadata": {},
   "outputs": [],
   "source": [
    "population.num_rows"
   ]
  },
  {
   "cell_type": "markdown",
   "id": "34a7ff3d-4928-47a7-b25b-1665237d6a23",
   "metadata": {},
   "source": [
    "### Exploration"
   ]
  },
  {
   "cell_type": "code",
   "execution_count": null,
   "id": "e1cb7b19-858a-4364-a272-7d076f2a75b9",
   "metadata": {},
   "outputs": [],
   "source": [
    "population.sort('Total Compensation', descending=True)"
   ]
  },
  {
   "cell_type": "markdown",
   "id": "9f92aca8-9d20-4770-a655-71d77c8d1570",
   "metadata": {},
   "source": [
    "**Discussion Question 1: Visualization**"
   ]
  },
  {
   "cell_type": "code",
   "execution_count": null,
   "id": "b84a7f53-3f38-419c-a21e-bd9a8ca85a61",
   "metadata": {},
   "outputs": [],
   "source": [
    "population.hist('Total Compensation', bins = np.arange(0, 800000, 25000))"
   ]
  },
  {
   "cell_type": "code",
   "execution_count": null,
   "id": "c50a9299-b9dc-468e-9109-b28bf5570334",
   "metadata": {},
   "outputs": [],
   "source": [
    "population.sort('Total Compensation')"
   ]
  },
  {
   "cell_type": "markdown",
   "id": "678947dd-4d21-483c-9740-d7ec74303763",
   "metadata": {},
   "source": [
    "#### How can we decide what people to include in today's problem? \n",
    "\n",
    "- Maybe we can just think about the minimum salary for part-time workers:\n",
    "    - $15/hr, 20 hr/wk, 50 weeks"
   ]
  },
  {
   "cell_type": "code",
   "execution_count": null,
   "id": "d337299c-fe79-4220-95dc-42b817207da8",
   "metadata": {},
   "outputs": [],
   "source": [
    "min_salary = 15 * 20 * 50\n",
    "min_salary"
   ]
  },
  {
   "cell_type": "code",
   "execution_count": null,
   "id": "e8438306-c951-40c0-8db6-1cd0c70935f6",
   "metadata": {},
   "outputs": [],
   "source": [
    "population = population.where('Salary', are.above(min_salary))\n",
    "population"
   ]
  },
  {
   "cell_type": "code",
   "execution_count": null,
   "id": "5baff5c6-b39b-4534-b295-c6f108bcafb1",
   "metadata": {},
   "outputs": [],
   "source": [
    "population.hist('Total Compensation', bins = np.arange(0, 800000, 25000))"
   ]
  },
  {
   "cell_type": "markdown",
   "id": "47370aa8-75bc-42e4-a470-34c5ffa522c0",
   "metadata": {},
   "source": [
    "- Population parameter for today: The *median* total compensation of all City employees of San Francisco (in 2019).\n",
    "- If you have the entire population, just calculate the parameter. "
   ]
  },
  {
   "cell_type": "code",
   "execution_count": null,
   "id": "7d1495c0-5a20-49fc-909b-3000417e843b",
   "metadata": {},
   "outputs": [],
   "source": [
    "pop_median = percentile(50, population.column('Total Compensation'))\n",
    "pop_median"
   ]
  },
  {
   "cell_type": "markdown",
   "id": "12e6a8cb-14ab-43ef-8a50-ce8016076fc9",
   "metadata": {},
   "source": [
    "**STOP**"
   ]
  },
  {
   "cell_type": "markdown",
   "id": "3fc7ff21-ea7a-43fe-9f21-87dca9311ae7",
   "metadata": {},
   "source": [
    "### Let's change the problem statement slightly:\n",
    "\n",
    "> *Can we find a range of values which we strongly believe that the population parameter lies in?*"
   ]
  },
  {
   "cell_type": "markdown",
   "id": "dce8744b-92f3-48db-a415-8ace1bb7cc02",
   "metadata": {},
   "source": [
    "A sample from the population:"
   ]
  },
  {
   "cell_type": "code",
   "execution_count": null,
   "id": "0d091e49-13af-419b-8ab3-32fad920582c",
   "metadata": {},
   "outputs": [],
   "source": [
    "sample_size = 400\n",
    "a_sample = population.sample(sample_size, with_replacement=False)\n",
    "a_sample.hist('Total Compensation', bins = np.arange(0, 800000, 25000))"
   ]
  },
  {
   "cell_type": "code",
   "execution_count": null,
   "id": "f72b1f4c-d4f1-495b-8b2c-bfc612edc5fa",
   "metadata": {},
   "outputs": [],
   "source": [
    "percentile(50, a_sample.column('Total Compensation'))"
   ]
  },
  {
   "cell_type": "markdown",
   "id": "cda02d4c-caf2-487f-8f97-0e0660bfd490",
   "metadata": {},
   "source": [
    "**STOP**"
   ]
  },
  {
   "cell_type": "markdown",
   "id": "e4478bea-65e7-442d-bf5a-3b94a867e087",
   "metadata": {},
   "source": [
    "### How should we bootstrap sample?"
   ]
  },
  {
   "cell_type": "code",
   "execution_count": null,
   "id": "acdc2b18-d937-4eb7-9d89-52bae3dd5a78",
   "metadata": {},
   "outputs": [],
   "source": [
    "bootstrap_sample = a_sample.sample(k = a_sample.num_rows, \n",
    "                                   with_replacement = True)"
   ]
  },
  {
   "cell_type": "code",
   "execution_count": null,
   "id": "b46c6bb4-ab06-4e3d-8078-8370718d3469",
   "metadata": {},
   "outputs": [],
   "source": [
    "bootstrap_sample.hist('Total Compensation', bins = np.arange(0, 800000, 25000))"
   ]
  },
  {
   "cell_type": "code",
   "execution_count": null,
   "id": "7d43b65d-2bf8-4633-98e2-16842fd86aa2",
   "metadata": {},
   "outputs": [],
   "source": [
    "percentile(50, bootstrap_sample.column('Total Compensation'))"
   ]
  },
  {
   "cell_type": "code",
   "execution_count": null,
   "id": "a8c5028e-7131-4e9c-ac78-46870cbfec8b",
   "metadata": {},
   "outputs": [],
   "source": [
    "def one_bootstrap_median():\n",
    "    # draw the bootstrap sample\n",
    "    resample = a_sample.sample(k = a_sample.num_rows, with_replacement = True)\n",
    "    # return the median total compensation in the bootstrap sample\n",
    "    return percentile(50, resample.column('Total Compensation'))"
   ]
  },
  {
   "cell_type": "code",
   "execution_count": null,
   "id": "25e6a955-049f-4bb9-9b38-85f01d6d1a44",
   "metadata": {},
   "outputs": [],
   "source": [
    "bootstrapped_sample_medians = make_array()\n",
    "num_resamples = 1000\n",
    "\n",
    "for i in np.arange(num_resamples):\n",
    "    new_median = one_bootstrap_median()\n",
    "    bootstrapped_sample_medians = np.append(bootstrapped_sample_medians, new_median)"
   ]
  },
  {
   "cell_type": "code",
   "execution_count": null,
   "id": "7d7dfd2d-90db-4e7e-bf27-1deac7205713",
   "metadata": {},
   "outputs": [],
   "source": [
    "bootstrapped_sample_medians"
   ]
  },
  {
   "cell_type": "markdown",
   "id": "3c2758de-c168-47ef-88c5-65cb0cbd069c",
   "metadata": {},
   "source": [
    "Now, we will use the fact that this dataset is our population as leverage to check whether our method of estimation is doing a good job."
   ]
  },
  {
   "cell_type": "code",
   "execution_count": null,
   "id": "673cc9e7-073c-49d5-857e-818afb5c6f3f",
   "metadata": {},
   "outputs": [],
   "source": [
    "bootstrapped_median_table = Table().with_column('Bootstrapped Sample Median', bootstrapped_sample_medians)\n",
    "bootstrapped_median_table.hist(bins = np.arange(125000, 155000, 2000))\n",
    "\n",
    "# Plotting parameters; you can ignore this code\n",
    "parameter_green = '#32CD32'\n",
    "plots.ylim(-0.000005, 0.00014)\n",
    "plots.scatter(pop_median, 0, color=parameter_green, s=40, zorder=2)\n",
    "plots.title('Do our bootstrapped medians cover the true value?*');"
   ]
  },
  {
   "cell_type": "markdown",
   "id": "3f5cadb0-5e5c-4f20-aa2c-277a4aee2e1e",
   "metadata": {},
   "source": [
    "**STOP**"
   ]
  },
  {
   "cell_type": "markdown",
   "id": "d7e92011-02ef-4125-b8dd-cc62d9bd56c8",
   "metadata": {},
   "source": [
    "### Percentiles help us describe ordered lists"
   ]
  },
  {
   "cell_type": "markdown",
   "id": "7c23176d-503a-4371-8753-ba1cfd62e645",
   "metadata": {},
   "source": [
    "**Discussion Questions** \n",
    "\n",
    "- Which statements are true when `s = array([1, 5, 7, 3, 9])`?\n",
    "\n",
    "1. The 50th percentile of `s` is 5.\n",
    "2. The 10th percentile of `s` is 6.\n",
    "3. The 39th percentile of `s` is the same as the 40th percentile of `s`. \n",
    "4. The 40th percentile of `s` is the same as the 41st percentile of `s`. "
   ]
  },
  {
   "cell_type": "code",
   "execution_count": null,
   "id": "54fca7e3-a6f1-437f-a902-daca520e3c6f",
   "metadata": {},
   "outputs": [],
   "source": [
    "s = make_array(1,5,7,3,9)"
   ]
  },
  {
   "cell_type": "code",
   "execution_count": null,
   "id": "bda60102-4aaf-40d5-9b7a-ab18864dccd2",
   "metadata": {},
   "outputs": [],
   "source": [
    "percentile(50, s) == 5"
   ]
  },
  {
   "cell_type": "code",
   "execution_count": null,
   "id": "72f010cf-20b1-41cd-9485-3755aef38c5f",
   "metadata": {},
   "outputs": [],
   "source": [
    "percentile(50, s) == 6"
   ]
  },
  {
   "cell_type": "code",
   "execution_count": null,
   "id": "ac89e406-fdb6-4d82-9b86-baa44466c85a",
   "metadata": {},
   "outputs": [],
   "source": [
    "percentile(39, s) == percentile(40, s)"
   ]
  },
  {
   "cell_type": "code",
   "execution_count": null,
   "id": "f911cebb-c5eb-4a64-bc26-ccde1d89a9df",
   "metadata": {},
   "outputs": [],
   "source": [
    "percentile(40, s) == percentile(41, s)"
   ]
  },
  {
   "cell_type": "code",
   "execution_count": null,
   "id": "0903e793-0938-4c5d-8e84-12f480fcab63",
   "metadata": {},
   "outputs": [],
   "source": [
    "left = percentile(2.5, bootstrapped_sample_medians)\n",
    "right = percentile(97.5, bootstrapped_sample_medians)\n",
    "\n",
    "make_array(left, right)"
   ]
  },
  {
   "cell_type": "markdown",
   "id": "f2d5de0f-8714-4e89-a3c1-2575bcf57db7",
   "metadata": {},
   "source": [
    "_____"
   ]
  },
  {
   "cell_type": "code",
   "execution_count": null,
   "id": "60de66ee-3375-4e6c-93bd-5d8b2748f8da",
   "metadata": {},
   "outputs": [],
   "source": [
    "t = make_array(1,3,3,7,9)"
   ]
  },
  {
   "cell_type": "code",
   "execution_count": null,
   "id": "edd24532-44e1-4262-9ff1-70f77d034147",
   "metadata": {},
   "outputs": [],
   "source": [
    "percentile(40, t)"
   ]
  },
  {
   "cell_type": "code",
   "execution_count": null,
   "id": "652640d7-b10d-4746-b37f-28f7aff07f91",
   "metadata": {},
   "outputs": [],
   "source": [
    "percentile(60, t)"
   ]
  },
  {
   "cell_type": "markdown",
   "id": "a993b813-19cd-4084-a960-d2083445a25c",
   "metadata": {},
   "source": [
    "**STOP**"
   ]
  },
  {
   "cell_type": "markdown",
   "id": "c7504adc-1813-4cd3-85a4-c4b5ed90ced3",
   "metadata": {},
   "source": [
    "### The confidence interval is a tool for estimation"
   ]
  },
  {
   "cell_type": "code",
   "execution_count": null,
   "id": "3ee676f1-8e8b-42aa-92b7-1f3c0dd90f95",
   "metadata": {},
   "outputs": [],
   "source": [
    "bootstrapped_median_table.hist(bins = np.arange(125000, 150000, 2000))\n",
    "\n",
    "# Plotting parameters; you can ignore this code\n",
    "plots.ylim(-0.000005, 0.00014)\n",
    "plots.plot(make_array(left, right), make_array(0, 0), color='yellow', lw=3, zorder=1)\n",
    "plots.scatter(pop_median, 0, color=parameter_green, s=40, zorder=2);\n",
    "plots.title('We are 95 percent confident that \\n the parameter lies within the yellow bounds');"
   ]
  },
  {
   "cell_type": "markdown",
   "id": "36f46596-91ba-47d4-8a6a-7bce3f8fbc61",
   "metadata": {},
   "source": [
    "In practice, when we make confidence intervals, we do not have the true value of the parameter. We have it today for teaching purposes. We will not know in reality whether the bootstrapped distribution of statistics covers the parameter (we hope that it does)."
   ]
  },
  {
   "cell_type": "markdown",
   "id": "7e15541c-3894-4fef-a8f8-42768cd6507c",
   "metadata": {},
   "source": [
    "**Discussion Question 6**"
   ]
  }
 ],
 "metadata": {
  "kernelspec": {
   "display_name": "Python 3 (ipykernel)",
   "language": "python",
   "name": "python3"
  },
  "language_info": {
   "codemirror_mode": {
    "name": "ipython",
    "version": 3
   },
   "file_extension": ".py",
   "mimetype": "text/x-python",
   "name": "python",
   "nbconvert_exporter": "python",
   "pygments_lexer": "ipython3",
   "version": "3.12.4"
  }
 },
 "nbformat": 4,
 "nbformat_minor": 5
}
